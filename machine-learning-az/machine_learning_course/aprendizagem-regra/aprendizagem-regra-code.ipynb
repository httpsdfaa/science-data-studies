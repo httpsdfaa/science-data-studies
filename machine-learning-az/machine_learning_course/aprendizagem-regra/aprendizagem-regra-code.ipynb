{
 "cells": [
  {
   "cell_type": "code",
   "execution_count": 1,
   "id": "b37fec10-49ce-45e3-bfa3-3fc416073fc7",
   "metadata": {
    "tags": []
   },
   "outputs": [
    {
     "name": "stdout",
     "output_type": "stream",
     "text": [
      "Collecting Orange3\n",
      "  Obtaining dependency information for Orange3 from https://files.pythonhosted.org/packages/e7/10/d2ef34259f2d92d7c61f69d42327279db3a0c4b7b44ecf4ab261203b1701/Orange3-3.36.2-cp311-cp311-manylinux_2_17_x86_64.manylinux2014_x86_64.whl.metadata\n",
      "  Downloading Orange3-3.36.2-cp311-cp311-manylinux_2_17_x86_64.manylinux2014_x86_64.whl.metadata (3.6 kB)\n",
      "Collecting AnyQt>=0.2.0 (from Orange3)\n",
      "  Obtaining dependency information for AnyQt>=0.2.0 from https://files.pythonhosted.org/packages/56/cf/23fecd7086b1eea4d07eabb053f9b5893741e2ef71a2692ce00c1a741f82/AnyQt-0.2.0-py3-none-any.whl.metadata\n",
      "  Downloading AnyQt-0.2.0-py3-none-any.whl.metadata (1.5 kB)\n",
      "Collecting baycomp>=1.0.2 (from Orange3)\n",
      "  Downloading baycomp-1.0.3.tar.gz (15 kB)\n",
      "  Preparing metadata (setup.py) ... \u001b[?25ldone\n",
      "\u001b[?25hRequirement already satisfied: bottleneck>=1.3.4 in /home/nandes/anaconda3/lib/python3.11/site-packages (from Orange3) (1.3.5)\n",
      "Collecting catboost>=1.0.1 (from Orange3)\n",
      "  Obtaining dependency information for catboost>=1.0.1 from https://files.pythonhosted.org/packages/f6/6b/8724adcfa5a8cb816f09c41fb30772d14699b948e4462a7afd24613117fb/catboost-1.2.3-cp311-cp311-manylinux2014_x86_64.whl.metadata\n",
      "  Downloading catboost-1.2.3-cp311-cp311-manylinux2014_x86_64.whl.metadata (1.2 kB)\n",
      "Requirement already satisfied: chardet>=3.0.2 in /home/nandes/anaconda3/lib/python3.11/site-packages (from Orange3) (4.0.0)\n",
      "Collecting httpx>=0.21.0 (from Orange3)\n",
      "  Obtaining dependency information for httpx>=0.21.0 from https://files.pythonhosted.org/packages/41/7b/ddacf6dcebb42466abd03f368782142baa82e08fc0c1f8eaa05b4bae87d5/httpx-0.27.0-py3-none-any.whl.metadata\n",
      "  Downloading httpx-0.27.0-py3-none-any.whl.metadata (7.2 kB)\n",
      "Requirement already satisfied: joblib>=1.0.0 in /home/nandes/anaconda3/lib/python3.11/site-packages (from Orange3) (1.2.0)\n",
      "Requirement already satisfied: keyring in /home/nandes/anaconda3/lib/python3.11/site-packages (from Orange3) (23.13.1)\n",
      "Collecting keyrings.alt (from Orange3)\n",
      "  Obtaining dependency information for keyrings.alt from https://files.pythonhosted.org/packages/5b/a4/0b582731e9e1938f18e63a25697253808ab870403b72222775b3fb53fdd7/keyrings.alt-5.0.1-py3-none-any.whl.metadata\n",
      "  Downloading keyrings.alt-5.0.1-py3-none-any.whl.metadata (3.6 kB)\n",
      "Requirement already satisfied: matplotlib>=3.2.0 in /home/nandes/anaconda3/lib/python3.11/site-packages (from Orange3) (3.7.2)\n",
      "Requirement already satisfied: networkx in /home/nandes/anaconda3/lib/python3.11/site-packages (from Orange3) (3.1)\n",
      "Requirement already satisfied: numpy>=1.20.0 in /home/nandes/anaconda3/lib/python3.11/site-packages (from Orange3) (1.24.3)\n",
      "Collecting openTSNE!=0.7.0,>=0.6.1 (from Orange3)\n",
      "  Obtaining dependency information for openTSNE!=0.7.0,>=0.6.1 from https://files.pythonhosted.org/packages/35/e2/8568cad9d6db1174e5b058c0a02a5e17dd4110fe2d66d4c08ffd63618714/openTSNE-1.0.1-cp311-cp311-manylinux_2_17_x86_64.manylinux2014_x86_64.whl.metadata\n",
      "  Downloading openTSNE-1.0.1-cp311-cp311-manylinux_2_17_x86_64.manylinux2014_x86_64.whl.metadata (7.9 kB)\n",
      "Requirement already satisfied: openpyxl in /home/nandes/anaconda3/lib/python3.11/site-packages (from Orange3) (3.0.10)\n",
      "Collecting orange-canvas-core<0.2a,>=0.1.30 (from Orange3)\n",
      "  Obtaining dependency information for orange-canvas-core<0.2a,>=0.1.30 from https://files.pythonhosted.org/packages/63/8b/779ddfc84db18774628eb096629f57f48241361d9c00f65c6565b8824f56/orange_canvas_core-0.1.35-py3-none-any.whl.metadata\n",
      "  Downloading orange_canvas_core-0.1.35-py3-none-any.whl.metadata (2.1 kB)\n",
      "Collecting orange-widget-base>=4.22.0 (from Orange3)\n",
      "  Obtaining dependency information for orange-widget-base>=4.22.0 from https://files.pythonhosted.org/packages/96/35/d6c8df1ce8000f020143b29d558c40dcb494ab0b0bb30a92e4b26da477ad/orange_widget_base-4.23.0-py3-none-any.whl.metadata\n",
      "  Downloading orange_widget_base-4.23.0-py3-none-any.whl.metadata (1.6 kB)\n",
      "Requirement already satisfied: pandas!=1.5.0,!=2.0.0,>=1.4.0 in /home/nandes/anaconda3/lib/python3.11/site-packages (from Orange3) (2.1.4)\n",
      "Requirement already satisfied: pip>=18.0 in /home/nandes/anaconda3/lib/python3.11/site-packages (from Orange3) (23.2.1)\n",
      "Requirement already satisfied: pygments>=2.8.0 in /home/nandes/anaconda3/lib/python3.11/site-packages (from Orange3) (2.15.1)\n",
      "Collecting pyqtgraph>=0.13.1 (from Orange3)\n",
      "  Obtaining dependency information for pyqtgraph>=0.13.1 from https://files.pythonhosted.org/packages/ae/2d/28d5d4efd20a69f6a3cb450a171e8562b379a14483c365c082e00b24d267/pyqtgraph-0.13.4-py3-none-any.whl.metadata\n",
      "  Downloading pyqtgraph-0.13.4-py3-none-any.whl.metadata (1.3 kB)\n",
      "Collecting python-louvain>=0.13 (from Orange3)\n",
      "  Downloading python-louvain-0.16.tar.gz (204 kB)\n",
      "\u001b[2K     \u001b[38;2;114;156;31m━━━━━━━━━━━━━━━━━━━━━━━━━━━━━━━━━━━━━━━\u001b[0m \u001b[32m204.6/204.6 kB\u001b[0m \u001b[31m1.1 MB/s\u001b[0m eta \u001b[36m0:00:00\u001b[0m MB/s\u001b[0m eta \u001b[36m0:00:01\u001b[0m\n",
      "\u001b[?25h  Preparing metadata (setup.py) ... \u001b[?25ldone\n",
      "\u001b[?25hRequirement already satisfied: pyyaml in /home/nandes/anaconda3/lib/python3.11/site-packages (from Orange3) (6.0)\n",
      "Requirement already satisfied: qtconsole>=4.7.2 in /home/nandes/anaconda3/lib/python3.11/site-packages (from Orange3) (5.4.2)\n",
      "Requirement already satisfied: requests in /home/nandes/anaconda3/lib/python3.11/site-packages (from Orange3) (2.31.0)\n",
      "Requirement already satisfied: scikit-learn!=1.2.*,<1.4,>=1.1.0 in /home/nandes/anaconda3/lib/python3.11/site-packages (from Orange3) (1.3.0)\n",
      "Requirement already satisfied: scipy>=1.9 in /home/nandes/anaconda3/lib/python3.11/site-packages (from Orange3) (1.11.1)\n",
      "Collecting serverfiles (from Orange3)\n",
      "  Downloading serverfiles-0.3.1.tar.gz (11 kB)\n",
      "  Preparing metadata (setup.py) ... \u001b[?25ldone\n",
      "\u001b[?25hRequirement already satisfied: setuptools>=51.0.0 in /home/nandes/anaconda3/lib/python3.11/site-packages (from Orange3) (68.0.0)\n",
      "Collecting xgboost>=1.7.4 (from Orange3)\n",
      "  Obtaining dependency information for xgboost>=1.7.4 from https://files.pythonhosted.org/packages/c3/eb/496aa2f5d356af4185f770bc76055307f8d1870e11016b10fd779b21769c/xgboost-2.0.3-py3-none-manylinux2014_x86_64.whl.metadata\n",
      "  Downloading xgboost-2.0.3-py3-none-manylinux2014_x86_64.whl.metadata (2.0 kB)\n",
      "Collecting xlrd>=1.2.0 (from Orange3)\n",
      "  Obtaining dependency information for xlrd>=1.2.0 from https://files.pythonhosted.org/packages/a6/0c/c2a72d51fe56e08a08acc85d13013558a2d793028ae7385448a6ccdfae64/xlrd-2.0.1-py2.py3-none-any.whl.metadata\n",
      "  Downloading xlrd-2.0.1-py2.py3-none-any.whl.metadata (3.4 kB)\n",
      "Collecting xlsxwriter (from Orange3)\n",
      "  Obtaining dependency information for xlsxwriter from https://files.pythonhosted.org/packages/a7/ea/53d1fe468e63e092cf16e2c18d16f50c29851242f9dd12d6a66e0d7f0d02/XlsxWriter-3.2.0-py3-none-any.whl.metadata\n",
      "  Downloading XlsxWriter-3.2.0-py3-none-any.whl.metadata (2.6 kB)\n",
      "Collecting graphviz (from catboost>=1.0.1->Orange3)\n",
      "  Obtaining dependency information for graphviz from https://files.pythonhosted.org/packages/00/be/d59db2d1d52697c6adc9eacaf50e8965b6345cc143f671e1ed068818d5cf/graphviz-0.20.3-py3-none-any.whl.metadata\n",
      "  Downloading graphviz-0.20.3-py3-none-any.whl.metadata (12 kB)\n",
      "Requirement already satisfied: plotly in /home/nandes/anaconda3/lib/python3.11/site-packages (from catboost>=1.0.1->Orange3) (5.20.0)\n",
      "Requirement already satisfied: six in /home/nandes/anaconda3/lib/python3.11/site-packages (from catboost>=1.0.1->Orange3) (1.16.0)\n",
      "Requirement already satisfied: anyio in /home/nandes/anaconda3/lib/python3.11/site-packages (from httpx>=0.21.0->Orange3) (3.5.0)\n",
      "Requirement already satisfied: certifi in /home/nandes/anaconda3/lib/python3.11/site-packages (from httpx>=0.21.0->Orange3) (2024.2.2)\n",
      "Collecting httpcore==1.* (from httpx>=0.21.0->Orange3)\n",
      "  Obtaining dependency information for httpcore==1.* from https://files.pythonhosted.org/packages/78/d4/e5d7e4f2174f8a4d63c8897d79eb8fe2503f7ecc03282fee1fa2719c2704/httpcore-1.0.5-py3-none-any.whl.metadata\n",
      "  Downloading httpcore-1.0.5-py3-none-any.whl.metadata (20 kB)\n",
      "Requirement already satisfied: idna in /home/nandes/anaconda3/lib/python3.11/site-packages (from httpx>=0.21.0->Orange3) (3.4)\n",
      "Requirement already satisfied: sniffio in /home/nandes/anaconda3/lib/python3.11/site-packages (from httpx>=0.21.0->Orange3) (1.2.0)\n",
      "Collecting h11<0.15,>=0.13 (from httpcore==1.*->httpx>=0.21.0->Orange3)\n",
      "  Obtaining dependency information for h11<0.15,>=0.13 from https://files.pythonhosted.org/packages/95/04/ff642e65ad6b90db43e668d70ffb6736436c7ce41fcc549f4e9472234127/h11-0.14.0-py3-none-any.whl.metadata\n",
      "  Downloading h11-0.14.0-py3-none-any.whl.metadata (8.2 kB)\n",
      "Requirement already satisfied: contourpy>=1.0.1 in /home/nandes/anaconda3/lib/python3.11/site-packages (from matplotlib>=3.2.0->Orange3) (1.0.5)\n",
      "Requirement already satisfied: cycler>=0.10 in /home/nandes/anaconda3/lib/python3.11/site-packages (from matplotlib>=3.2.0->Orange3) (0.11.0)\n",
      "Requirement already satisfied: fonttools>=4.22.0 in /home/nandes/anaconda3/lib/python3.11/site-packages (from matplotlib>=3.2.0->Orange3) (4.25.0)\n",
      "Requirement already satisfied: kiwisolver>=1.0.1 in /home/nandes/anaconda3/lib/python3.11/site-packages (from matplotlib>=3.2.0->Orange3) (1.4.4)\n",
      "Requirement already satisfied: packaging>=20.0 in /home/nandes/anaconda3/lib/python3.11/site-packages (from matplotlib>=3.2.0->Orange3) (23.1)\n",
      "Requirement already satisfied: pillow>=6.2.0 in /home/nandes/anaconda3/lib/python3.11/site-packages (from matplotlib>=3.2.0->Orange3) (9.4.0)\n",
      "Requirement already satisfied: pyparsing<3.1,>=2.3.1 in /home/nandes/anaconda3/lib/python3.11/site-packages (from matplotlib>=3.2.0->Orange3) (3.0.9)\n",
      "Requirement already satisfied: python-dateutil>=2.7 in /home/nandes/anaconda3/lib/python3.11/site-packages (from matplotlib>=3.2.0->Orange3) (2.8.2)\n",
      "Requirement already satisfied: docutils in /home/nandes/anaconda3/lib/python3.11/site-packages (from orange-canvas-core<0.2a,>=0.1.30->Orange3) (0.18.1)\n",
      "Collecting commonmark>=0.8.1 (from orange-canvas-core<0.2a,>=0.1.30->Orange3)\n",
      "  Obtaining dependency information for commonmark>=0.8.1 from https://files.pythonhosted.org/packages/b1/92/dfd892312d822f36c55366118b95d914e5f16de11044a27cf10a7d71bbbf/commonmark-0.9.1-py2.py3-none-any.whl.metadata\n",
      "  Downloading commonmark-0.9.1-py2.py3-none-any.whl.metadata (5.7 kB)\n",
      "Collecting requests-cache (from orange-canvas-core<0.2a,>=0.1.30->Orange3)\n",
      "  Obtaining dependency information for requests-cache from https://files.pythonhosted.org/packages/cc/23/863f517b5d74e297e669c88093ecd92e13a06c488e90acbd5507819049ac/requests_cache-1.2.0-py3-none-any.whl.metadata\n",
      "  Downloading requests_cache-1.2.0-py3-none-any.whl.metadata (9.9 kB)\n",
      "Collecting dictdiffer (from orange-canvas-core<0.2a,>=0.1.30->Orange3)\n",
      "  Obtaining dependency information for dictdiffer from https://files.pythonhosted.org/packages/47/ef/4cb333825d10317a36a1154341ba37e6e9c087bac99c1990ef07ffdb376f/dictdiffer-0.9.0-py2.py3-none-any.whl.metadata\n",
      "  Downloading dictdiffer-0.9.0-py2.py3-none-any.whl.metadata (4.8 kB)\n",
      "Collecting qasync>=0.10.0 (from orange-canvas-core<0.2a,>=0.1.30->Orange3)\n",
      "  Obtaining dependency information for qasync>=0.10.0 from https://files.pythonhosted.org/packages/51/06/bc628aa2981bcfd452a08ee435b812fd3eee4ada8acb8a76c4a09d1a5a77/qasync-0.27.1-py3-none-any.whl.metadata\n",
      "  Downloading qasync-0.27.1-py3-none-any.whl.metadata (4.2 kB)\n",
      "Requirement already satisfied: typing-extensions>=3.7.4.3 in /home/nandes/anaconda3/lib/python3.11/site-packages (from orange-widget-base>=4.22.0->Orange3) (4.7.1)\n",
      "INFO: pip is looking at multiple versions of orange-widget-base to determine which version is compatible with other requirements. This could take a while.\n",
      "Collecting orange-widget-base>=4.22.0 (from Orange3)\n",
      "  Obtaining dependency information for orange-widget-base>=4.22.0 from https://files.pythonhosted.org/packages/ef/0a/16c62fff3b72863a9adcd641708d1b733709e670e16a877319dedbc6e7d8/orange_widget_base-4.22.0-py3-none-any.whl.metadata\n",
      "  Downloading orange_widget_base-4.22.0-py3-none-any.whl.metadata (1.6 kB)\n",
      "Requirement already satisfied: pytz>=2020.1 in /home/nandes/anaconda3/lib/python3.11/site-packages (from pandas!=1.5.0,!=2.0.0,>=1.4.0->Orange3) (2023.3.post1)\n",
      "Requirement already satisfied: tzdata>=2022.1 in /home/nandes/anaconda3/lib/python3.11/site-packages (from pandas!=1.5.0,!=2.0.0,>=1.4.0->Orange3) (2023.3)\n",
      "Requirement already satisfied: traitlets!=5.2.1,!=5.2.2 in /home/nandes/anaconda3/lib/python3.11/site-packages (from qtconsole>=4.7.2->Orange3) (5.7.1)\n",
      "Requirement already satisfied: ipython-genutils in /home/nandes/anaconda3/lib/python3.11/site-packages (from qtconsole>=4.7.2->Orange3) (0.2.0)\n",
      "Requirement already satisfied: jupyter-core in /home/nandes/anaconda3/lib/python3.11/site-packages (from qtconsole>=4.7.2->Orange3) (5.3.0)\n",
      "Requirement already satisfied: jupyter-client>=4.1 in /home/nandes/anaconda3/lib/python3.11/site-packages (from qtconsole>=4.7.2->Orange3) (7.4.9)\n",
      "Requirement already satisfied: ipykernel>=4.1 in /home/nandes/anaconda3/lib/python3.11/site-packages (from qtconsole>=4.7.2->Orange3) (6.25.0)\n",
      "Requirement already satisfied: qtpy>=2.0.1 in /home/nandes/anaconda3/lib/python3.11/site-packages (from qtconsole>=4.7.2->Orange3) (2.2.0)\n",
      "Requirement already satisfied: pyzmq>=17.1 in /home/nandes/anaconda3/lib/python3.11/site-packages (from qtconsole>=4.7.2->Orange3) (23.2.0)\n",
      "Requirement already satisfied: threadpoolctl>=2.0.0 in /home/nandes/anaconda3/lib/python3.11/site-packages (from scikit-learn!=1.2.*,<1.4,>=1.1.0->Orange3) (2.2.0)\n",
      "Requirement already satisfied: jaraco.classes in /home/nandes/anaconda3/lib/python3.11/site-packages (from keyring->Orange3) (3.2.1)\n",
      "Requirement already satisfied: importlib-metadata>=4.11.4 in /home/nandes/anaconda3/lib/python3.11/site-packages (from keyring->Orange3) (6.0.0)\n",
      "Requirement already satisfied: SecretStorage>=3.2 in /home/nandes/anaconda3/lib/python3.11/site-packages (from keyring->Orange3) (3.3.1)\n",
      "Requirement already satisfied: jeepney>=0.4.2 in /home/nandes/anaconda3/lib/python3.11/site-packages (from keyring->Orange3) (0.7.1)\n",
      "Collecting jaraco.context (from keyrings.alt->Orange3)\n",
      "  Obtaining dependency information for jaraco.context from https://files.pythonhosted.org/packages/d2/40/11b7bc1898cf1dcb87ccbe09b39f5088634ac78bb25f3383ff541c2b40aa/jaraco.context-5.3.0-py3-none-any.whl.metadata\n",
      "  Downloading jaraco.context-5.3.0-py3-none-any.whl.metadata (4.0 kB)\n",
      "Requirement already satisfied: et_xmlfile in /home/nandes/anaconda3/lib/python3.11/site-packages (from openpyxl->Orange3) (1.1.0)\n",
      "Requirement already satisfied: charset-normalizer<4,>=2 in /home/nandes/anaconda3/lib/python3.11/site-packages (from requests->Orange3) (2.0.4)\n",
      "Requirement already satisfied: urllib3<3,>=1.21.1 in /home/nandes/anaconda3/lib/python3.11/site-packages (from requests->Orange3) (1.26.16)\n",
      "Requirement already satisfied: zipp>=0.5 in /home/nandes/anaconda3/lib/python3.11/site-packages (from importlib-metadata>=4.11.4->keyring->Orange3) (3.11.0)\n",
      "Requirement already satisfied: comm>=0.1.1 in /home/nandes/anaconda3/lib/python3.11/site-packages (from ipykernel>=4.1->qtconsole>=4.7.2->Orange3) (0.1.2)\n",
      "Requirement already satisfied: debugpy>=1.6.5 in /home/nandes/anaconda3/lib/python3.11/site-packages (from ipykernel>=4.1->qtconsole>=4.7.2->Orange3) (1.6.7)\n",
      "Requirement already satisfied: ipython>=7.23.1 in /home/nandes/anaconda3/lib/python3.11/site-packages (from ipykernel>=4.1->qtconsole>=4.7.2->Orange3) (8.15.0)\n",
      "Requirement already satisfied: matplotlib-inline>=0.1 in /home/nandes/anaconda3/lib/python3.11/site-packages (from ipykernel>=4.1->qtconsole>=4.7.2->Orange3) (0.1.6)\n",
      "Requirement already satisfied: nest-asyncio in /home/nandes/anaconda3/lib/python3.11/site-packages (from ipykernel>=4.1->qtconsole>=4.7.2->Orange3) (1.5.6)\n",
      "Requirement already satisfied: psutil in /home/nandes/anaconda3/lib/python3.11/site-packages (from ipykernel>=4.1->qtconsole>=4.7.2->Orange3) (5.9.0)\n",
      "Requirement already satisfied: tornado>=6.1 in /home/nandes/anaconda3/lib/python3.11/site-packages (from ipykernel>=4.1->qtconsole>=4.7.2->Orange3) (6.3.2)\n",
      "Requirement already satisfied: entrypoints in /home/nandes/anaconda3/lib/python3.11/site-packages (from jupyter-client>=4.1->qtconsole>=4.7.2->Orange3) (0.4)\n",
      "Requirement already satisfied: platformdirs>=2.5 in /home/nandes/anaconda3/lib/python3.11/site-packages (from jupyter-core->qtconsole>=4.7.2->Orange3) (3.10.0)\n",
      "Requirement already satisfied: cryptography>=2.0 in /home/nandes/anaconda3/lib/python3.11/site-packages (from SecretStorage>=3.2->keyring->Orange3) (41.0.3)\n",
      "Requirement already satisfied: more-itertools in /home/nandes/anaconda3/lib/python3.11/site-packages (from jaraco.classes->keyring->Orange3) (8.12.0)\n",
      "Collecting backports.tarfile (from jaraco.context->keyrings.alt->Orange3)\n",
      "  Obtaining dependency information for backports.tarfile from https://files.pythonhosted.org/packages/42/91/dd046ab893f277b97e0b10e18c1cacfaea19afe20dbe1f0d16f6cb9f43fc/backports.tarfile-1.0.0-py3-none-any.whl.metadata\n",
      "  Downloading backports.tarfile-1.0.0-py3-none-any.whl.metadata (1.9 kB)\n",
      "Requirement already satisfied: tenacity>=6.2.0 in /home/nandes/anaconda3/lib/python3.11/site-packages (from plotly->catboost>=1.0.1->Orange3) (8.2.2)\n",
      "Requirement already satisfied: attrs>=21.2 in /home/nandes/anaconda3/lib/python3.11/site-packages (from requests-cache->orange-canvas-core<0.2a,>=0.1.30->Orange3) (22.1.0)\n",
      "Collecting cattrs>=22.2 (from requests-cache->orange-canvas-core<0.2a,>=0.1.30->Orange3)\n",
      "  Obtaining dependency information for cattrs>=22.2 from https://files.pythonhosted.org/packages/b3/0d/cd4a4071c7f38385dc5ba91286723b4d1090b87815db48216212c6c6c30e/cattrs-23.2.3-py3-none-any.whl.metadata\n",
      "  Downloading cattrs-23.2.3-py3-none-any.whl.metadata (10 kB)\n",
      "Collecting url-normalize>=1.4 (from requests-cache->orange-canvas-core<0.2a,>=0.1.30->Orange3)\n",
      "  Obtaining dependency information for url-normalize>=1.4 from https://files.pythonhosted.org/packages/65/1c/6c6f408be78692fc850006a2b6dea37c2b8592892534e09996e401efc74b/url_normalize-1.4.3-py2.py3-none-any.whl.metadata\n",
      "  Downloading url_normalize-1.4.3-py2.py3-none-any.whl.metadata (3.1 kB)\n",
      "Collecting attrs>=21.2 (from requests-cache->orange-canvas-core<0.2a,>=0.1.30->Orange3)\n",
      "  Obtaining dependency information for attrs>=21.2 from https://files.pythonhosted.org/packages/e0/44/827b2a91a5816512fcaf3cc4ebc465ccd5d598c45cefa6703fcf4a79018f/attrs-23.2.0-py3-none-any.whl.metadata\n",
      "  Downloading attrs-23.2.0-py3-none-any.whl.metadata (9.5 kB)\n",
      "Requirement already satisfied: cffi>=1.12 in /home/nandes/anaconda3/lib/python3.11/site-packages (from cryptography>=2.0->SecretStorage>=3.2->keyring->Orange3) (1.15.1)\n",
      "Requirement already satisfied: backcall in /home/nandes/anaconda3/lib/python3.11/site-packages (from ipython>=7.23.1->ipykernel>=4.1->qtconsole>=4.7.2->Orange3) (0.2.0)\n",
      "Requirement already satisfied: decorator in /home/nandes/anaconda3/lib/python3.11/site-packages (from ipython>=7.23.1->ipykernel>=4.1->qtconsole>=4.7.2->Orange3) (5.1.1)\n",
      "Requirement already satisfied: jedi>=0.16 in /home/nandes/anaconda3/lib/python3.11/site-packages (from ipython>=7.23.1->ipykernel>=4.1->qtconsole>=4.7.2->Orange3) (0.18.1)\n",
      "Requirement already satisfied: pickleshare in /home/nandes/anaconda3/lib/python3.11/site-packages (from ipython>=7.23.1->ipykernel>=4.1->qtconsole>=4.7.2->Orange3) (0.7.5)\n",
      "Requirement already satisfied: prompt-toolkit!=3.0.37,<3.1.0,>=3.0.30 in /home/nandes/anaconda3/lib/python3.11/site-packages (from ipython>=7.23.1->ipykernel>=4.1->qtconsole>=4.7.2->Orange3) (3.0.36)\n",
      "Requirement already satisfied: stack-data in /home/nandes/anaconda3/lib/python3.11/site-packages (from ipython>=7.23.1->ipykernel>=4.1->qtconsole>=4.7.2->Orange3) (0.2.0)\n",
      "Requirement already satisfied: pexpect>4.3 in /home/nandes/anaconda3/lib/python3.11/site-packages (from ipython>=7.23.1->ipykernel>=4.1->qtconsole>=4.7.2->Orange3) (4.8.0)\n",
      "Requirement already satisfied: pycparser in /home/nandes/anaconda3/lib/python3.11/site-packages (from cffi>=1.12->cryptography>=2.0->SecretStorage>=3.2->keyring->Orange3) (2.21)\n",
      "Requirement already satisfied: parso<0.9.0,>=0.8.0 in /home/nandes/anaconda3/lib/python3.11/site-packages (from jedi>=0.16->ipython>=7.23.1->ipykernel>=4.1->qtconsole>=4.7.2->Orange3) (0.8.3)\n",
      "Requirement already satisfied: ptyprocess>=0.5 in /home/nandes/anaconda3/lib/python3.11/site-packages (from pexpect>4.3->ipython>=7.23.1->ipykernel>=4.1->qtconsole>=4.7.2->Orange3) (0.7.0)\n",
      "Requirement already satisfied: wcwidth in /home/nandes/anaconda3/lib/python3.11/site-packages (from prompt-toolkit!=3.0.37,<3.1.0,>=3.0.30->ipython>=7.23.1->ipykernel>=4.1->qtconsole>=4.7.2->Orange3) (0.2.5)\n",
      "Requirement already satisfied: executing in /home/nandes/anaconda3/lib/python3.11/site-packages (from stack-data->ipython>=7.23.1->ipykernel>=4.1->qtconsole>=4.7.2->Orange3) (0.8.3)\n",
      "Requirement already satisfied: asttokens in /home/nandes/anaconda3/lib/python3.11/site-packages (from stack-data->ipython>=7.23.1->ipykernel>=4.1->qtconsole>=4.7.2->Orange3) (2.0.5)\n",
      "Requirement already satisfied: pure-eval in /home/nandes/anaconda3/lib/python3.11/site-packages (from stack-data->ipython>=7.23.1->ipykernel>=4.1->qtconsole>=4.7.2->Orange3) (0.2.2)\n",
      "Downloading Orange3-3.36.2-cp311-cp311-manylinux_2_17_x86_64.manylinux2014_x86_64.whl (6.3 MB)\n",
      "\u001b[2K   \u001b[38;2;114;156;31m━━━━━━━━━━━━━━━━━━━━━━━━━━━━━━━━━━━━━━━━\u001b[0m \u001b[32m6.3/6.3 MB\u001b[0m \u001b[31m14.7 MB/s\u001b[0m eta \u001b[36m0:00:00\u001b[0mm eta \u001b[36m0:00:01\u001b[0m[36m0:00:01\u001b[0m\n",
      "\u001b[?25hDownloading AnyQt-0.2.0-py3-none-any.whl (56 kB)\n",
      "\u001b[2K   \u001b[38;2;114;156;31m━━━━━━━━━━━━━━━━━━━━━━━━━━━━━━━━━━━━━━━━\u001b[0m \u001b[32m56.2/56.2 kB\u001b[0m \u001b[31m219.6 kB/s\u001b[0m eta \u001b[36m0:00:00\u001b[0mMB/s\u001b[0m eta \u001b[36m0:00:01\u001b[0m\n",
      "\u001b[?25hDownloading catboost-1.2.3-cp311-cp311-manylinux2014_x86_64.whl (98.5 MB)\n",
      "\u001b[2K   \u001b[38;2;114;156;31m━━━━━━━━━━━━━━━━━━━━━━━━━━━━━━━━━━━━━━━━\u001b[0m \u001b[32m98.5/98.5 MB\u001b[0m \u001b[31m5.2 MB/s\u001b[0m eta \u001b[36m0:00:00\u001b[0m0m eta \u001b[36m0:00:01\u001b[0m0:01\u001b[0m:01\u001b[0m\n",
      "\u001b[?25hDownloading httpx-0.27.0-py3-none-any.whl (75 kB)\n",
      "\u001b[2K   \u001b[38;2;114;156;31m━━━━━━━━━━━━━━━━━━━━━━━━━━━━━━━━━━━━━━━━\u001b[0m \u001b[32m75.6/75.6 kB\u001b[0m \u001b[31m353.5 kB/s\u001b[0m eta \u001b[36m0:00:00\u001b[0m1m46.7 MB/s\u001b[0m eta \u001b[36m0:00:01\u001b[0m\n",
      "\u001b[?25hDownloading httpcore-1.0.5-py3-none-any.whl (77 kB)\n",
      "\u001b[2K   \u001b[38;2;114;156;31m━━━━━━━━━━━━━━━━━━━━━━━━━━━━━━━━━━━━━━━━\u001b[0m \u001b[32m77.9/77.9 kB\u001b[0m \u001b[31m481.7 kB/s\u001b[0m eta \u001b[36m0:00:00\u001b[0m1m67.5 MB/s\u001b[0m eta \u001b[36m0:00:01\u001b[0m\n",
      "\u001b[?25hDownloading openTSNE-1.0.1-cp311-cp311-manylinux_2_17_x86_64.manylinux2014_x86_64.whl (3.2 MB)\n",
      "\u001b[2K   \u001b[38;2;114;156;31m━━━━━━━━━━━━━━━━━━━━━━━━━━━━━━━━━━━━━━━━\u001b[0m \u001b[32m3.2/3.2 MB\u001b[0m \u001b[31m11.3 MB/s\u001b[0m eta \u001b[36m0:00:00\u001b[0mm eta \u001b[36m0:00:01\u001b[0m[36m0:00:01\u001b[0m\n",
      "\u001b[?25hDownloading orange_canvas_core-0.1.35-py3-none-any.whl (513 kB)\n",
      "\u001b[2K   \u001b[38;2;114;156;31m━━━━━━━━━━━━━━━━━━━━━━━━━━━━━━━━━━━━━━━━\u001b[0m \u001b[32m513.3/513.3 kB\u001b[0m \u001b[31m2.9 MB/s\u001b[0m eta \u001b[36m0:00:00\u001b[0m0m eta \u001b[36m0:00:01\u001b[0m\n",
      "\u001b[?25hDownloading orange_widget_base-4.22.0-py3-none-any.whl (263 kB)\n",
      "\u001b[2K   \u001b[38;2;114;156;31m━━━━━━━━━━━━━━━━━━━━━━━━━━━━━━━━━━━━━━━━\u001b[0m \u001b[32m263.8/263.8 kB\u001b[0m \u001b[31m1.5 MB/s\u001b[0m eta \u001b[36m0:00:00\u001b[0m[31m61.0 MB/s\u001b[0m eta \u001b[36m0:00:01\u001b[0m\n",
      "\u001b[?25hDownloading pyqtgraph-0.13.4-py3-none-any.whl (975 kB)\n",
      "\u001b[2K   \u001b[38;2;114;156;31m━━━━━━━━━━━━━━━━━━━━━━━━━━━━━━━━━━━━━━━━\u001b[0m \u001b[32m975.2/975.2 kB\u001b[0m \u001b[31m3.8 MB/s\u001b[0m eta \u001b[36m0:00:00\u001b[0m0m eta \u001b[36m0:00:01\u001b[0m\n",
      "\u001b[?25hDownloading xgboost-2.0.3-py3-none-manylinux2014_x86_64.whl (297.1 MB)\n",
      "\u001b[2K   \u001b[38;2;114;156;31m━━━━━━━━━━━━━━━━━━━━━━━━━━━━━━━━━━━━━━━━\u001b[0m \u001b[32m297.1/297.1 MB\u001b[0m \u001b[31m1.9 MB/s\u001b[0m eta \u001b[36m0:00:00\u001b[0m0m eta \u001b[36m0:00:01\u001b[0m[36m0:00:01\u001b[0m\n",
      "\u001b[?25hDownloading xlrd-2.0.1-py2.py3-none-any.whl (96 kB)\n",
      "\u001b[2K   \u001b[38;2;114;156;31m━━━━━━━━━━━━━━━━━━━━━━━━━━━━━━━━━━━━━━━━\u001b[0m \u001b[32m96.5/96.5 kB\u001b[0m \u001b[31m309.2 kB/s\u001b[0m eta \u001b[36m0:00:00\u001b[0mMB/s\u001b[0m eta \u001b[36m0:00:01\u001b[0m\n",
      "\u001b[?25hDownloading keyrings.alt-5.0.1-py3-none-any.whl (17 kB)\n",
      "Downloading XlsxWriter-3.2.0-py3-none-any.whl (159 kB)\n",
      "\u001b[2K   \u001b[38;2;114;156;31m━━━━━━━━━━━━━━━━━━━━━━━━━━━━━━━━━━━━━━━\u001b[0m \u001b[32m159.9/159.9 kB\u001b[0m \u001b[31m634.2 kB/s\u001b[0m eta \u001b[36m0:00:00\u001b[0m MB/s\u001b[0m eta \u001b[36m0:00:01\u001b[0m\n",
      "\u001b[?25hDownloading commonmark-0.9.1-py2.py3-none-any.whl (51 kB)\n",
      "\u001b[2K   \u001b[38;2;114;156;31m━━━━━━━━━━━━━━━━━━━━━━━━━━━━━━━━━━━━━━━━\u001b[0m \u001b[32m51.1/51.1 kB\u001b[0m \u001b[31m775.5 kB/s\u001b[0m eta \u001b[36m0:00:00\u001b[0mMB/s\u001b[0m eta \u001b[36m0:00:01\u001b[0m\n",
      "\u001b[?25hDownloading qasync-0.27.1-py3-none-any.whl (14 kB)\n",
      "Downloading dictdiffer-0.9.0-py2.py3-none-any.whl (16 kB)\n",
      "Downloading graphviz-0.20.3-py3-none-any.whl (47 kB)\n",
      "\u001b[2K   \u001b[38;2;114;156;31m━━━━━━━━━━━━━━━━━━━━━━━━━━━━━━━━━━━━━━━━\u001b[0m \u001b[32m47.1/47.1 kB\u001b[0m \u001b[31m627.6 kB/s\u001b[0m eta \u001b[36m0:00:00\u001b[0m1m59.8 MB/s\u001b[0m eta \u001b[36m0:00:01\u001b[0m\n",
      "\u001b[?25hDownloading jaraco.context-5.3.0-py3-none-any.whl (6.5 kB)\n",
      "Downloading requests_cache-1.2.0-py3-none-any.whl (61 kB)\n",
      "\u001b[2K   \u001b[38;2;114;156;31m━━━━━━━━━━━━━━━━━━━━━━━━━━━━━━━━━━━━━━━━\u001b[0m \u001b[32m61.4/61.4 kB\u001b[0m \u001b[31m881.1 kB/s\u001b[0m eta \u001b[36m0:00:00\u001b[0mMB/s\u001b[0m eta \u001b[36m0:00:01\u001b[0m\n",
      "\u001b[?25hDownloading cattrs-23.2.3-py3-none-any.whl (57 kB)\n",
      "\u001b[2K   \u001b[38;2;114;156;31m━━━━━━━━━━━━━━━━━━━━━━━━━━━━━━━━━━━━━━━━\u001b[0m \u001b[32m57.5/57.5 kB\u001b[0m \u001b[31m861.9 kB/s\u001b[0m eta \u001b[36m0:00:00\u001b[0m1m61.0 MB/s\u001b[0m eta \u001b[36m0:00:01\u001b[0m\n",
      "\u001b[?25hDownloading attrs-23.2.0-py3-none-any.whl (60 kB)\n",
      "\u001b[2K   \u001b[38;2;114;156;31m━━━━━━━━━━━━━━━━━━━━━━━━━━━━━━━━━━━━━━━━\u001b[0m \u001b[32m60.8/60.8 kB\u001b[0m \u001b[31m938.9 kB/s\u001b[0m eta \u001b[36m0:00:00\u001b[0m1m62.1 MB/s\u001b[0m eta \u001b[36m0:00:01\u001b[0m\n",
      "\u001b[?25hUsing cached h11-0.14.0-py3-none-any.whl (58 kB)\n",
      "Downloading url_normalize-1.4.3-py2.py3-none-any.whl (6.8 kB)\n",
      "Downloading backports.tarfile-1.0.0-py3-none-any.whl (28 kB)\n",
      "Building wheels for collected packages: baycomp, python-louvain, serverfiles\n",
      "  Building wheel for baycomp (setup.py) ... \u001b[?25ldone\n",
      "\u001b[?25h  Created wheel for baycomp: filename=baycomp-1.0.3-py3-none-any.whl size=18032 sha256=845cf81f9dcffc567727fb999cc746c81dc60eb679041543b1754e559ab14215\n",
      "  Stored in directory: /home/nandes/.cache/pip/wheels/2b/a2/b8/9c0b9ffde746a4e0c20639b46eae34dda4e0588efebde8916e\n",
      "  Building wheel for python-louvain (setup.py) ... \u001b[?25ldone\n",
      "\u001b[?25h  Created wheel for python-louvain: filename=python_louvain-0.16-py3-none-any.whl size=9389 sha256=2949e0f90027245713d7f837d3879f34a0248ff2fc4a4bb619839b5b64783dae\n",
      "  Stored in directory: /home/nandes/.cache/pip/wheels/11/c1/e7/f62a211c636275e2da798bf0c307a3ae79aeddaf2524a03ce4\n",
      "  Building wheel for serverfiles (setup.py) ... \u001b[?25ldone\n",
      "\u001b[?25h  Created wheel for serverfiles: filename=serverfiles-0.3.1-py3-none-any.whl size=6928 sha256=e3cfd2c5965490307e64c27b589bf61f1058118bf5aa25fb019681207b5be1e1\n",
      "  Stored in directory: /home/nandes/.cache/pip/wheels/10/fe/96/2239afdbcabbbd85b1836ef431e6ce960f1bc84d7ff0520f5b\n",
      "Successfully built baycomp python-louvain serverfiles\n",
      "Installing collected packages: dictdiffer, commonmark, xlsxwriter, xlrd, url-normalize, qasync, python-louvain, pyqtgraph, h11, graphviz, backports.tarfile, attrs, AnyQt, xgboost, serverfiles, jaraco.context, httpcore, cattrs, requests-cache, openTSNE, keyrings.alt, httpx, catboost, baycomp, orange-canvas-core, orange-widget-base, Orange3\n",
      "  Attempting uninstall: attrs\n",
      "    Found existing installation: attrs 22.1.0\n",
      "    Uninstalling attrs-22.1.0:\n",
      "      Successfully uninstalled attrs-22.1.0\n",
      "Successfully installed AnyQt-0.2.0 Orange3-3.36.2 attrs-23.2.0 backports.tarfile-1.0.0 baycomp-1.0.3 catboost-1.2.3 cattrs-23.2.3 commonmark-0.9.1 dictdiffer-0.9.0 graphviz-0.20.3 h11-0.14.0 httpcore-1.0.5 httpx-0.27.0 jaraco.context-5.3.0 keyrings.alt-5.0.1 openTSNE-1.0.1 orange-canvas-core-0.1.35 orange-widget-base-4.22.0 pyqtgraph-0.13.4 python-louvain-0.16 qasync-0.27.1 requests-cache-1.2.0 serverfiles-0.3.1 url-normalize-1.4.3 xgboost-2.0.3 xlrd-2.0.1 xlsxwriter-3.2.0\n"
     ]
    }
   ],
   "source": [
    "!pip install Orange3 # Data mining"
   ]
  },
  {
   "cell_type": "markdown",
   "id": "51a14f04-187a-4cb6-89f5-085811e50be7",
   "metadata": {
    "tags": []
   },
   "source": [
    "# Ferramentas"
   ]
  },
  {
   "cell_type": "code",
   "execution_count": 2,
   "id": "7e906ca4-d2d3-498f-90fe-1c9e15e736be",
   "metadata": {
    "tags": []
   },
   "outputs": [],
   "source": [
    "import Orange"
   ]
  },
  {
   "cell_type": "markdown",
   "id": "5cbc70f6-0e70-4735-b44f-ca4145eb5158",
   "metadata": {},
   "source": [
    "# Base risco de crédito"
   ]
  },
  {
   "cell_type": "code",
   "execution_count": 5,
   "id": "1e9c18b9-290e-4d73-9d8c-e3b0d6451353",
   "metadata": {
    "tags": []
   },
   "outputs": [
    {
     "data": {
      "text/plain": [
       "[[ruim, alta, nenhuma, 0_15 | alto],\n",
       " [desconhecida, alta, nenhuma, 15_35 | alto],\n",
       " [desconhecida, baixa, nenhuma, 15_35 | moderado],\n",
       " [desconhecida, baixa, nenhuma, acima_35 | alto],\n",
       " [desconhecida, baixa, nenhuma, acima_35 | baixo],\n",
       " ...\n",
       "]"
      ]
     },
     "execution_count": 5,
     "metadata": {},
     "output_type": "execute_result"
    }
   ],
   "source": [
    "# trabalhar com Orange temos que trabalhar com Table e não com dataframe\n",
    "# não é preciso trabalhar com .pkl podemos trabalhar com .csv\n",
    "base_risco_credito = Orange.data.Table('risco_credito_regras.csv')\n",
    "base_risco_credito"
   ]
  },
  {
   "cell_type": "code",
   "execution_count": 6,
   "id": "84a8b30b-f803-44bc-b1d7-6743a442168f",
   "metadata": {
    "tags": []
   },
   "outputs": [
    {
     "data": {
      "text/plain": [
       "[historia, divida, garantias, renda | risco]"
      ]
     },
     "execution_count": 6,
     "metadata": {},
     "output_type": "execute_result"
    }
   ],
   "source": [
    "base_risco_credito.domain # mostra com quais atributos estamos trabalhando"
   ]
  },
  {
   "cell_type": "code",
   "execution_count": 9,
   "id": "ac5bf40d-b204-4363-bf78-a0593f760be6",
   "metadata": {
    "tags": []
   },
   "outputs": [],
   "source": [
    "cn2 = Orange.classification.rules.CN2Learner() # função de treinamento\n",
    "regras_risco_credito = cn2(base_risco_credito) # treinamento"
   ]
  },
  {
   "cell_type": "code",
   "execution_count": 10,
   "id": "b3f29ff9-66d1-4b6a-a45b-6e3d6c472dd5",
   "metadata": {
    "tags": []
   },
   "outputs": [
    {
     "data": {
      "text/plain": [
       "CN2Classifier(domain=[historia, divida, garantias, renda | risco],\n",
       "              rule_list=[<Orange.classification.rules.Rule at 0x77977d063650>,\n",
       "               <Orange.classification.rules.Rule at 0x77977d062b50>,\n",
       "               <Orange.classification.rules.Rule at 0x77977d03ded0>,\n",
       "               <Orange.classification.rules.Rule at 0x77977d03cb10>,\n",
       "               <Orange.classification.rules.Rule at 0x77977d063290>,\n",
       "               <Orange.classification.rules.Rule at 0x77977d063e10>,\n",
       "               <Orange.classification.rules.Rule at 0x77977d063bd0>,\n",
       "               <Orange.classification.rules.Rule at 0x77977d063fd0>,\n",
       "               <Orange.classification.rules.Rule at 0x77977d062cd0>,\n",
       "               <Orange.classification.rules.Rule at 0x77977d063ed0>,\n",
       "               <Orange.classification.rules.Rule at 0x77977d063cd0>])"
      ]
     },
     "execution_count": 10,
     "metadata": {},
     "output_type": "execute_result"
    }
   ],
   "source": [
    "regras_risco_credito # passa uma lista rule_lista. Devo passar um laço for"
   ]
  },
  {
   "cell_type": "code",
   "execution_count": 12,
   "id": "9b881722-4620-4620-b73b-4246d6d2559e",
   "metadata": {
    "tags": []
   },
   "outputs": [
    {
     "name": "stdout",
     "output_type": "stream",
     "text": [
      "IF renda==0_15 THEN risco=alto \n",
      "IF historia==boa AND divida!=alta THEN risco=baixo \n",
      "IF historia==boa AND garantias!=nenhuma THEN risco=baixo \n",
      "IF historia==boa AND renda!=15_35 THEN risco=baixo \n",
      "IF historia==boa THEN risco=moderado \n",
      "IF divida==alta THEN risco=alto \n",
      "IF historia!=desconhecida THEN risco=moderado \n",
      "IF garantias==adequada THEN risco=baixo \n",
      "IF renda==15_35 THEN risco=moderado \n",
      "IF historia==desconhecida THEN risco=alto \n",
      "IF TRUE THEN risco=alto \n"
     ]
    }
   ],
   "source": [
    "for regras in regras_risco_credito.rule_list:\n",
    "    print(regras)"
   ]
  },
  {
   "cell_type": "code",
   "execution_count": 14,
   "id": "1eda6e6b-b1c4-4d55-ac92-38d891d28561",
   "metadata": {
    "tags": []
   },
   "outputs": [
    {
     "data": {
      "text/plain": [
       "array([1, 0])"
      ]
     },
     "execution_count": 14,
     "metadata": {},
     "output_type": "execute_result"
    }
   ],
   "source": [
    "# Caso hipotética abaixo de uma pessoa que acaba de chegar em um banco\n",
    "\n",
    "# história boa, dívida alta, garantias nenhuma, renda > 35\n",
    "# hisória ruim, dívida alta, garantias adequada, renda < 15\n",
    "\n",
    "previsoes = regras_risco_credito([['boa', 'alta', 'nenhuma', 'acima_35'],['ruim', 'alta', 'adequada', '0_15']])\n",
    "previsoes"
   ]
  },
  {
   "cell_type": "code",
   "execution_count": 16,
   "id": "8e266080-ef1d-4091-8950-cd1aa698e27d",
   "metadata": {
    "tags": []
   },
   "outputs": [
    {
     "data": {
      "text/plain": [
       "DiscreteVariable(name='risco', values=('alto', 'baixo', 'moderado'))"
      ]
     },
     "execution_count": 16,
     "metadata": {},
     "output_type": "execute_result"
    }
   ],
   "source": [
    "base_risco_credito.domain.class_var"
   ]
  },
  {
   "cell_type": "code",
   "execution_count": 21,
   "id": "20f7171a-6528-45de-82de-970a234ba1d5",
   "metadata": {
    "tags": []
   },
   "outputs": [
    {
     "name": "stdout",
     "output_type": "stream",
     "text": [
      "baixo\n",
      "alto\n"
     ]
    }
   ],
   "source": [
    "for i in previsoes:\n",
    "    print(base_risco_credito.domain.class_var.values[i])"
   ]
  },
  {
   "cell_type": "markdown",
   "id": "627b0b3a-6cfe-465f-9283-cb3227b0ea7d",
   "metadata": {
    "tags": []
   },
   "source": [
    "# Base credit data"
   ]
  },
  {
   "cell_type": "markdown",
   "id": "f70634f3-f696-4bd4-96ce-e94638c20e8a",
   "metadata": {},
   "source": [
    "# Base census"
   ]
  },
  {
   "cell_type": "code",
   "execution_count": null,
   "id": "2e1b7a22-06f8-427d-ae6e-ab4991e2b703",
   "metadata": {},
   "outputs": [],
   "source": []
  }
 ],
 "metadata": {
  "kernelspec": {
   "display_name": "Python 3 (ipykernel)",
   "language": "python",
   "name": "python3"
  },
  "language_info": {
   "codemirror_mode": {
    "name": "ipython",
    "version": 3
   },
   "file_extension": ".py",
   "mimetype": "text/x-python",
   "name": "python",
   "nbconvert_exporter": "python",
   "pygments_lexer": "ipython3",
   "version": "3.11.5"
  }
 },
 "nbformat": 4,
 "nbformat_minor": 5
}
