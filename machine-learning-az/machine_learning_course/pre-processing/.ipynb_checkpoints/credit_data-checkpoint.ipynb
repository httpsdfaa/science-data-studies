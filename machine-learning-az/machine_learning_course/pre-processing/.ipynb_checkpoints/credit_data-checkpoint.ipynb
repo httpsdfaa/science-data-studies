{
 "cells": [
  {
   "cell_type": "code",
   "execution_count": 3,
   "id": "e551bbc5-d2c5-4f40-bf0d-5dd4772676f2",
   "metadata": {
    "tags": []
   },
   "outputs": [
    {
     "name": "stdout",
     "output_type": "stream",
     "text": [
      "Requirement already satisfied: plotly in /home/nandes/anaconda3/lib/python3.11/site-packages (5.9.0)\n",
      "Collecting plotly\n",
      "  Obtaining dependency information for plotly from https://files.pythonhosted.org/packages/27/ae/c9fb759b36bc55ccc382b647d1afc23c2a860be8e835f96249996d0aa4df/plotly-5.19.0-py3-none-any.whl.metadata\n",
      "  Downloading plotly-5.19.0-py3-none-any.whl.metadata (7.0 kB)\n",
      "Requirement already satisfied: tenacity>=6.2.0 in /home/nandes/anaconda3/lib/python3.11/site-packages (from plotly) (8.2.2)\n",
      "Requirement already satisfied: packaging in /home/nandes/anaconda3/lib/python3.11/site-packages (from plotly) (23.1)\n",
      "Downloading plotly-5.19.0-py3-none-any.whl (15.7 MB)\n",
      "\u001b[2K   \u001b[38;2;114;156;31m━━━━━━━━━━━━━━━━━━━━━━━━━━━━━━━━━━━━━━━━\u001b[0m \u001b[32m15.7/15.7 MB\u001b[0m \u001b[31m14.2 MB/s\u001b[0m eta \u001b[36m0:00:00\u001b[0mm eta \u001b[36m0:00:01\u001b[0m0:01\u001b[0m01\u001b[0m\n",
      "\u001b[?25hInstalling collected packages: plotly\n",
      "  Attempting uninstall: plotly\n",
      "    Found existing installation: plotly 5.9.0\n",
      "    Uninstalling plotly-5.9.0:\n",
      "      Successfully uninstalled plotly-5.9.0\n",
      "Successfully installed plotly-5.19.0\n"
     ]
    }
   ],
   "source": [
    "\"\"\"\n",
    "    '!' = executar como administrador\n",
    "\"\"\"\n",
    "!pip install plotly --upgrade # biblioteca para gerar gráficos dinâmicos"
   ]
  },
  {
   "cell_type": "code",
   "execution_count": 4,
   "id": "bf07cbf9-6b35-4cb0-9e7b-980a7037f2ef",
   "metadata": {
    "tags": []
   },
   "outputs": [],
   "source": [
    "import pandas as pd\n",
    "import numpy as np\n",
    "import seaborn as sns # visualização \n",
    "import matplolib.pyplot as plt # vizsualização\n",
    "import plotly.express as px # graficos dinamicos"
   ]
  }
 ],
 "metadata": {
  "kernelspec": {
   "display_name": "Python 3 (ipykernel)",
   "language": "python",
   "name": "python3"
  },
  "language_info": {
   "codemirror_mode": {
    "name": "ipython",
    "version": 3
   },
   "file_extension": ".py",
   "mimetype": "text/x-python",
   "name": "python",
   "nbconvert_exporter": "python",
   "pygments_lexer": "ipython3",
   "version": "3.11.5"
  }
 },
 "nbformat": 4,
 "nbformat_minor": 5
}
