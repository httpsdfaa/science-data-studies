{
 "cells": [
  {
   "cell_type": "markdown",
   "id": "5e22420b-268a-4927-bdfe-63316547be2f",
   "metadata": {
    "tags": []
   },
   "source": [
    "# Base de dados do Census populacional"
   ]
  },
  {
   "cell_type": "markdown",
   "id": "4436a7c5-1911-4537-aa19-1a4ff46c649d",
   "metadata": {
    "tags": []
   },
   "source": [
    "## Ferramentas globais"
   ]
  },
  {
   "cell_type": "code",
   "execution_count": 1,
   "id": "50bdad24-3a52-4093-89f7-3d0bc8384f17",
   "metadata": {
    "tags": []
   },
   "outputs": [
    {
     "name": "stdout",
     "output_type": "stream",
     "text": [
      "Requirement already satisfied: plotly in /home/nandes/anaconda3/lib/python3.11/site-packages (5.20.0)\n",
      "Requirement already satisfied: tenacity>=6.2.0 in /home/nandes/anaconda3/lib/python3.11/site-packages (from plotly) (8.2.2)\n",
      "Requirement already satisfied: packaging in /home/nandes/anaconda3/lib/python3.11/site-packages (from plotly) (23.1)\n"
     ]
    }
   ],
   "source": [
    "!pip install plotly --upgrade"
   ]
  },
  {
   "cell_type": "code",
   "execution_count": 5,
   "id": "0cfd82b7-584b-442a-a94f-cb4123728599",
   "metadata": {
    "tags": []
   },
   "outputs": [],
   "source": [
    "import pandas as pd\n",
    "import numpy as np\n",
    "import seaborn as sns # visualização \n",
    "import matplotlib.pyplot as plt # visualização\n",
    "import plotly.express as px # graficos dinamicos"
   ]
  },
  {
   "cell_type": "code",
   "execution_count": 6,
   "id": "4b646042-791b-4bda-8f54-48f354e5c2cc",
   "metadata": {
    "tags": []
   },
   "outputs": [],
   "source": [
    "base_census = pd.read_csv('census.csv')"
   ]
  },
  {
   "cell_type": "markdown",
   "id": "cf5c6720-6b13-49ca-9eaa-feb24ff42f81",
   "metadata": {
    "tags": []
   },
   "source": [
    "## Data Exploration"
   ]
  },
  {
   "cell_type": "code",
   "execution_count": 5,
   "id": "ae57b832-6d2f-4192-ad5b-8e12ea1408e9",
   "metadata": {
    "tags": []
   },
   "outputs": [
    {
     "data": {
      "text/html": [
       "<div>\n",
       "<style scoped>\n",
       "    .dataframe tbody tr th:only-of-type {\n",
       "        vertical-align: middle;\n",
       "    }\n",
       "\n",
       "    .dataframe tbody tr th {\n",
       "        vertical-align: top;\n",
       "    }\n",
       "\n",
       "    .dataframe thead th {\n",
       "        text-align: right;\n",
       "    }\n",
       "</style>\n",
       "<table border=\"1\" class=\"dataframe\">\n",
       "  <thead>\n",
       "    <tr style=\"text-align: right;\">\n",
       "      <th></th>\n",
       "      <th>age</th>\n",
       "      <th>workclass</th>\n",
       "      <th>final-weight</th>\n",
       "      <th>education</th>\n",
       "      <th>education-num</th>\n",
       "      <th>marital-status</th>\n",
       "      <th>occupation</th>\n",
       "      <th>relationship</th>\n",
       "      <th>race</th>\n",
       "      <th>sex</th>\n",
       "      <th>capital-gain</th>\n",
       "      <th>capital-loos</th>\n",
       "      <th>hour-per-week</th>\n",
       "      <th>native-country</th>\n",
       "      <th>income</th>\n",
       "    </tr>\n",
       "  </thead>\n",
       "  <tbody>\n",
       "    <tr>\n",
       "      <th>0</th>\n",
       "      <td>39</td>\n",
       "      <td>State-gov</td>\n",
       "      <td>77516</td>\n",
       "      <td>Bachelors</td>\n",
       "      <td>13</td>\n",
       "      <td>Never-married</td>\n",
       "      <td>Adm-clerical</td>\n",
       "      <td>Not-in-family</td>\n",
       "      <td>White</td>\n",
       "      <td>Male</td>\n",
       "      <td>2174</td>\n",
       "      <td>0</td>\n",
       "      <td>40</td>\n",
       "      <td>United-States</td>\n",
       "      <td>&lt;=50K</td>\n",
       "    </tr>\n",
       "    <tr>\n",
       "      <th>1</th>\n",
       "      <td>50</td>\n",
       "      <td>Self-emp-not-inc</td>\n",
       "      <td>83311</td>\n",
       "      <td>Bachelors</td>\n",
       "      <td>13</td>\n",
       "      <td>Married-civ-spouse</td>\n",
       "      <td>Exec-managerial</td>\n",
       "      <td>Husband</td>\n",
       "      <td>White</td>\n",
       "      <td>Male</td>\n",
       "      <td>0</td>\n",
       "      <td>0</td>\n",
       "      <td>13</td>\n",
       "      <td>United-States</td>\n",
       "      <td>&lt;=50K</td>\n",
       "    </tr>\n",
       "    <tr>\n",
       "      <th>2</th>\n",
       "      <td>38</td>\n",
       "      <td>Private</td>\n",
       "      <td>215646</td>\n",
       "      <td>HS-grad</td>\n",
       "      <td>9</td>\n",
       "      <td>Divorced</td>\n",
       "      <td>Handlers-cleaners</td>\n",
       "      <td>Not-in-family</td>\n",
       "      <td>White</td>\n",
       "      <td>Male</td>\n",
       "      <td>0</td>\n",
       "      <td>0</td>\n",
       "      <td>40</td>\n",
       "      <td>United-States</td>\n",
       "      <td>&lt;=50K</td>\n",
       "    </tr>\n",
       "    <tr>\n",
       "      <th>3</th>\n",
       "      <td>53</td>\n",
       "      <td>Private</td>\n",
       "      <td>234721</td>\n",
       "      <td>11th</td>\n",
       "      <td>7</td>\n",
       "      <td>Married-civ-spouse</td>\n",
       "      <td>Handlers-cleaners</td>\n",
       "      <td>Husband</td>\n",
       "      <td>Black</td>\n",
       "      <td>Male</td>\n",
       "      <td>0</td>\n",
       "      <td>0</td>\n",
       "      <td>40</td>\n",
       "      <td>United-States</td>\n",
       "      <td>&lt;=50K</td>\n",
       "    </tr>\n",
       "    <tr>\n",
       "      <th>4</th>\n",
       "      <td>28</td>\n",
       "      <td>Private</td>\n",
       "      <td>338409</td>\n",
       "      <td>Bachelors</td>\n",
       "      <td>13</td>\n",
       "      <td>Married-civ-spouse</td>\n",
       "      <td>Prof-specialty</td>\n",
       "      <td>Wife</td>\n",
       "      <td>Black</td>\n",
       "      <td>Female</td>\n",
       "      <td>0</td>\n",
       "      <td>0</td>\n",
       "      <td>40</td>\n",
       "      <td>Cuba</td>\n",
       "      <td>&lt;=50K</td>\n",
       "    </tr>\n",
       "  </tbody>\n",
       "</table>\n",
       "</div>"
      ],
      "text/plain": [
       "   age          workclass  final-weight   education  education-num  \\\n",
       "0   39          State-gov         77516   Bachelors             13   \n",
       "1   50   Self-emp-not-inc         83311   Bachelors             13   \n",
       "2   38            Private        215646     HS-grad              9   \n",
       "3   53            Private        234721        11th              7   \n",
       "4   28            Private        338409   Bachelors             13   \n",
       "\n",
       "        marital-status          occupation    relationship    race      sex  \\\n",
       "0        Never-married        Adm-clerical   Not-in-family   White     Male   \n",
       "1   Married-civ-spouse     Exec-managerial         Husband   White     Male   \n",
       "2             Divorced   Handlers-cleaners   Not-in-family   White     Male   \n",
       "3   Married-civ-spouse   Handlers-cleaners         Husband   Black     Male   \n",
       "4   Married-civ-spouse      Prof-specialty            Wife   Black   Female   \n",
       "\n",
       "   capital-gain  capital-loos  hour-per-week  native-country  income  \n",
       "0          2174             0             40   United-States   <=50K  \n",
       "1             0             0             13   United-States   <=50K  \n",
       "2             0             0             40   United-States   <=50K  \n",
       "3             0             0             40   United-States   <=50K  \n",
       "4             0             0             40            Cuba   <=50K  "
      ]
     },
     "execution_count": 5,
     "metadata": {},
     "output_type": "execute_result"
    }
   ],
   "source": [
    "base_census.head()"
   ]
  },
  {
   "cell_type": "code",
   "execution_count": 6,
   "id": "969d2eba-6181-4af2-b56c-26bf08ece60a",
   "metadata": {
    "tags": []
   },
   "outputs": [
    {
     "data": {
      "text/plain": [
       "(32561, 15)"
      ]
     },
     "execution_count": 6,
     "metadata": {},
     "output_type": "execute_result"
    }
   ],
   "source": [
    "base_census.shape # (linha, coluna)"
   ]
  },
  {
   "cell_type": "code",
   "execution_count": 8,
   "id": "92af631e-6918-497c-9cca-f722f85d3eda",
   "metadata": {
    "tags": []
   },
   "outputs": [
    {
     "data": {
      "text/html": [
       "<div>\n",
       "<style scoped>\n",
       "    .dataframe tbody tr th:only-of-type {\n",
       "        vertical-align: middle;\n",
       "    }\n",
       "\n",
       "    .dataframe tbody tr th {\n",
       "        vertical-align: top;\n",
       "    }\n",
       "\n",
       "    .dataframe thead th {\n",
       "        text-align: right;\n",
       "    }\n",
       "</style>\n",
       "<table border=\"1\" class=\"dataframe\">\n",
       "  <thead>\n",
       "    <tr style=\"text-align: right;\">\n",
       "      <th></th>\n",
       "      <th>age</th>\n",
       "      <th>final-weight</th>\n",
       "      <th>education-num</th>\n",
       "      <th>capital-gain</th>\n",
       "      <th>capital-loos</th>\n",
       "      <th>hour-per-week</th>\n",
       "    </tr>\n",
       "  </thead>\n",
       "  <tbody>\n",
       "    <tr>\n",
       "      <th>count</th>\n",
       "      <td>32561.000000</td>\n",
       "      <td>3.256100e+04</td>\n",
       "      <td>32561.000000</td>\n",
       "      <td>32561.000000</td>\n",
       "      <td>32561.000000</td>\n",
       "      <td>32561.000000</td>\n",
       "    </tr>\n",
       "    <tr>\n",
       "      <th>mean</th>\n",
       "      <td>38.581647</td>\n",
       "      <td>1.897784e+05</td>\n",
       "      <td>10.080679</td>\n",
       "      <td>1077.648844</td>\n",
       "      <td>87.303830</td>\n",
       "      <td>40.437456</td>\n",
       "    </tr>\n",
       "    <tr>\n",
       "      <th>std</th>\n",
       "      <td>13.640433</td>\n",
       "      <td>1.055500e+05</td>\n",
       "      <td>2.572720</td>\n",
       "      <td>7385.292085</td>\n",
       "      <td>402.960219</td>\n",
       "      <td>12.347429</td>\n",
       "    </tr>\n",
       "    <tr>\n",
       "      <th>min</th>\n",
       "      <td>17.000000</td>\n",
       "      <td>1.228500e+04</td>\n",
       "      <td>1.000000</td>\n",
       "      <td>0.000000</td>\n",
       "      <td>0.000000</td>\n",
       "      <td>1.000000</td>\n",
       "    </tr>\n",
       "    <tr>\n",
       "      <th>25%</th>\n",
       "      <td>28.000000</td>\n",
       "      <td>1.178270e+05</td>\n",
       "      <td>9.000000</td>\n",
       "      <td>0.000000</td>\n",
       "      <td>0.000000</td>\n",
       "      <td>40.000000</td>\n",
       "    </tr>\n",
       "    <tr>\n",
       "      <th>50%</th>\n",
       "      <td>37.000000</td>\n",
       "      <td>1.783560e+05</td>\n",
       "      <td>10.000000</td>\n",
       "      <td>0.000000</td>\n",
       "      <td>0.000000</td>\n",
       "      <td>40.000000</td>\n",
       "    </tr>\n",
       "    <tr>\n",
       "      <th>75%</th>\n",
       "      <td>48.000000</td>\n",
       "      <td>2.370510e+05</td>\n",
       "      <td>12.000000</td>\n",
       "      <td>0.000000</td>\n",
       "      <td>0.000000</td>\n",
       "      <td>45.000000</td>\n",
       "    </tr>\n",
       "    <tr>\n",
       "      <th>max</th>\n",
       "      <td>90.000000</td>\n",
       "      <td>1.484705e+06</td>\n",
       "      <td>16.000000</td>\n",
       "      <td>99999.000000</td>\n",
       "      <td>4356.000000</td>\n",
       "      <td>99.000000</td>\n",
       "    </tr>\n",
       "  </tbody>\n",
       "</table>\n",
       "</div>"
      ],
      "text/plain": [
       "                age  final-weight  education-num  capital-gain  capital-loos  \\\n",
       "count  32561.000000  3.256100e+04   32561.000000  32561.000000  32561.000000   \n",
       "mean      38.581647  1.897784e+05      10.080679   1077.648844     87.303830   \n",
       "std       13.640433  1.055500e+05       2.572720   7385.292085    402.960219   \n",
       "min       17.000000  1.228500e+04       1.000000      0.000000      0.000000   \n",
       "25%       28.000000  1.178270e+05       9.000000      0.000000      0.000000   \n",
       "50%       37.000000  1.783560e+05      10.000000      0.000000      0.000000   \n",
       "75%       48.000000  2.370510e+05      12.000000      0.000000      0.000000   \n",
       "max       90.000000  1.484705e+06      16.000000  99999.000000   4356.000000   \n",
       "\n",
       "       hour-per-week  \n",
       "count   32561.000000  \n",
       "mean       40.437456  \n",
       "std        12.347429  \n",
       "min         1.000000  \n",
       "25%        40.000000  \n",
       "50%        40.000000  \n",
       "75%        45.000000  \n",
       "max        99.000000  "
      ]
     },
     "execution_count": 8,
     "metadata": {},
     "output_type": "execute_result"
    }
   ],
   "source": [
    "base_census.describe()"
   ]
  },
  {
   "cell_type": "code",
   "execution_count": 10,
   "id": "87e3259b-ad33-4c37-9f5a-1725e94ff838",
   "metadata": {
    "tags": []
   },
   "outputs": [
    {
     "data": {
      "text/plain": [
       "age               0\n",
       "workclass         0\n",
       "final-weight      0\n",
       "education         0\n",
       "education-num     0\n",
       "marital-status    0\n",
       "occupation        0\n",
       "relationship      0\n",
       "race              0\n",
       "sex               0\n",
       "capital-gain      0\n",
       "capital-loos      0\n",
       "hour-per-week     0\n",
       "native-country    0\n",
       "income            0\n",
       "dtype: int64"
      ]
     },
     "execution_count": 10,
     "metadata": {},
     "output_type": "execute_result"
    }
   ],
   "source": [
    "base_census.isnull().sum() # verificar se tem valores faltante "
   ]
  },
  {
   "cell_type": "markdown",
   "id": "4cd0cb57-4107-4c56-8d50-81be8657e31a",
   "metadata": {},
   "source": [
    "## Data Visualization"
   ]
  },
  {
   "cell_type": "code",
   "execution_count": 15,
   "id": "3ea6fbac-8a06-4408-8cc7-b8114e88eb3a",
   "metadata": {
    "tags": []
   },
   "outputs": [
    {
     "data": {
      "text/plain": [
       "(array([' <=50K', ' >50K'], dtype=object), array([24720,  7841]))"
      ]
     },
     "execution_count": 15,
     "metadata": {},
     "output_type": "execute_result"
    }
   ],
   "source": [
    "np.unique(base_census['income'], return_counts=True) # checando quantos valores exclusivos temos"
   ]
  },
  {
   "cell_type": "markdown",
   "id": "3e5e543c-58df-438d-aca0-37c489a1ceea",
   "metadata": {
    "tags": []
   },
   "source": [
    "#### Comparando as classes e checando a diferença"
   ]
  },
  {
   "cell_type": "code",
   "execution_count": 18,
   "id": "6cf0fb9a-3d18-47d7-afce-2bb214708827",
   "metadata": {
    "tags": []
   },
   "outputs": [
    {
     "data": {
      "text/plain": [
       "<Axes: xlabel='income', ylabel='count'>"
      ]
     },
     "execution_count": 18,
     "metadata": {},
     "output_type": "execute_result"
    },
    {
     "data": {
      "image/png": "[encoded data removed]",
      "text/plain": [
       "<Figure size 640x480 with 1 Axes>"
      ]
     },
     "metadata": {},
     "output_type": "display_data"
    }
   ],
   "source": [
    "sns.countplot(x = base_census['income'])"
   ]
  },
  {
   "cell_type": "markdown",
   "id": "ef35c802-d33c-4533-8f69-096c3cc31b0d",
   "metadata": {},
   "source": [
    "#### Análise do Histograma e entender o que compõe o dataframe"
   ]
  },
  {
   "cell_type": "code",
   "execution_count": 22,
   "id": "fed4bc0a-caf8-422e-862d-f3a4d3464b8d",
   "metadata": {
    "tags": []
   },
   "outputs": [
    {
     "data": {
      "image/png": "[encoded data removed]",
      "text/plain": [
       "<Figure size 640x480 with 1 Axes>"
      ]
     },
     "metadata": {},
     "output_type": "display_data"
    }
   ],
   "source": [
    "plt.hist(x = base_census['age']);"
   ]
  },
  {
   "cell_type": "code",
   "execution_count": 25,
   "id": "09654cf6-f724-49d7-b14a-41d863478923",
   "metadata": {
    "tags": []
   },
   "outputs": [
    {
     "data": {
      "image/png": "[encoded data removed]",
      "text/plain": [
       "<Figure size 640x480 with 1 Axes>"
      ]
     },
     "metadata": {},
     "output_type": "display_data"
    }
   ],
   "source": [
    "plt.hist(x = base_census['education-num']);"
   ]
  },
  {
   "cell_type": "code",
   "execution_count": 27,
   "id": "2c42dfe3-a531-4096-a13c-d090b7eda134",
   "metadata": {
    "tags": []
   },
   "outputs": [
    {
     "data": {
      "image/png": "[encoded data removed]",
      "text/plain": [
       "<Figure size 640x480 with 1 Axes>"
      ]
     },
     "metadata": {},
     "output_type": "display_data"
    }
   ],
   "source": [
    "plt.hist(x = base_census['hour-per-week']);"
   ]
  },
  {
   "cell_type": "code",
   "execution_count": 11,
   "id": "75136e51-060b-4125-b324-e7fe56918756",
   "metadata": {
    "tags": []
   },
   "outputs": [
    {
     "data": {
      "application/vnd.plotly.v1+json": {
       "config": {
        "plotlyServerURL": "https://plot.ly"
       },
       "data": [
        {
         "branchvalues": "total",
         "domain": {
          "x": [
           0,
           1
          ],
          "y": [
           0,
           1
          ]
         },
         "hovertemplate": "labels=%{label}<br>count=%{value}<br>parent=%{parent}<br>id=%{id}<extra></extra>",
         "ids": [
          " ?/17",
          " Federal-gov/17",
          " Local-gov/17",
          " Never-worked/17",
          " Private/17",
          " Self-emp-inc/17",
          " Self-emp-not-inc/17",
          " State-gov/17",
          " ?/18",
          " Federal-gov/18",
          " Local-gov/18",
          " Never-worked/18",
          " Private/18",
          " Self-emp-inc/18",
          " Self-emp-not-inc/18",
          " State-gov/18",
          " ?/19",
          " Federal-gov/19",
          " Local-gov/19",
          " Private/19",
          " Self-emp-inc/19",
          " Self-emp-not-inc/19",
          " State-gov/19",
          " Without-pay/19",
          " ?/20",
          " Federal-gov/20",
          " Local-gov/20",
          " Never-worked/20",
          " Private/20",
          " Self-emp-inc/20",
          " Self-emp-not-inc/20",
          " State-gov/20",
          " ?/21",
          " Federal-gov/21",
          " Local-gov/21",
          " Private/21",
          " Self-emp-inc/21",
          " Self-emp-not-inc/21",
          " State-gov/21",
          " Without-pay/21",
          " ?/22",
          " Federal-gov/22",
          " Local-gov/22",
          " Private/22",
          " Self-emp-inc/22",
          " Self-emp-not-inc/22",
          " State-gov/22",
          " Without-pay/22",
          " ?/23",
          " Federal-gov/23",
          " Local-gov/23",
          " Never-worked/23",
          " Private/23",
          " Self-emp-inc/23",
          " Self-emp-not-inc/23",
          " State-gov/23",
          " ?/24",
          " Federal-gov/24",
          " Local-gov/24",
          " Private/24",
          " Self-emp-inc/24",
          " Self-emp-not-inc/24",
          " State-gov/24",
          " ?/25",
          " Federal-gov/25",
          " Local-gov/25",
          " Private/25",
          " Self-emp-inc/25",
          " Self-emp-not-inc/25",
          " State-gov/25",
          " ?/26",
          " Federal-gov/26",
          " Local-gov/26",
          " Private/26",
          " Self-emp-inc/26",
          " Self-emp-not-inc/26",
          " State-gov/26",
          " ?/27",
          " Federal-gov/27",
          " Local-gov/27",
          " Private/27",
          " Self-emp-inc/27",
          " Self-emp-not-inc/27",
          " State-gov/27",
          " ?/28",
          " Federal-gov/28",
          " Local-gov/28",
          " Private/28",
          " Self-emp-inc/28",
          " Self-emp-not-inc/28",
          " State-gov/28",
          " ?/29",
          " Federal-gov/29",
          " Local-gov/29",
          " Private/29",
          " Self-emp-inc/29",
          " Self-emp-not-inc/29",
          " State-gov/29",
          " Without-pay/29",
          " ?/30",
          " Federal-gov/30",
          " Local-gov/30",
          " Never-worked/30",
          " Private/30",
          " Self-emp-inc/30",
          " Self-emp-not-inc/30",
          " State-gov/30",
          " ?/31",
          " Federal-gov/31",
          " Local-gov/31",
          " Private/31",
          " Self-emp-inc/31",
          " Self-emp-not-inc/31",
          " State-gov/31",
          " ?/32",
          " Federal-gov/32",
          " Local-gov/32",
          " Private/32",
          " Self-emp-inc/32",
          " Self-emp-not-inc/32",
          " State-gov/32",
          " ?/33",
          " Federal-gov/33",
          " Local-gov/33",
          " Private/33",
          " Self-emp-inc/33",
          " Self-emp-not-inc/33",
          " State-gov/33",
          " ?/34",
          " Federal-gov/34",
          " Local-gov/34",
          " Private/34",
          " Self-emp-inc/34",
          " Self-emp-not-inc/34",
          " State-gov/34",
          " ?/35",
          " Federal-gov/35",
          " Local-gov/35",
          " Private/35",
          " Self-emp-inc/35",
          " Self-emp-not-inc/35",
          " State-gov/35",
          " ?/36",
          " Federal-gov/36",
          " Local-gov/36",
          " Private/36",
          " Self-emp-inc/36",
          " Self-emp-not-inc/36",
          " State-gov/36",
          " ?/37",
          " Federal-gov/37",
          " Local-gov/37",
          " Private/37",
          " Self-emp-inc/37",
          " Self-emp-not-inc/37",
          " State-gov/37",
          " ?/38",
          " Federal-gov/38",
          " Local-gov/38",
          " Private/38",
          " Self-emp-inc/38",
          " Self-emp-not-inc/38",
          " State-gov/38",
          " ?/39",
          " Federal-gov/39",
          " Local-gov/39",
          " Private/39",
          " Self-emp-inc/39",
          " Self-emp-not-inc/39",
          " State-gov/39",
          " ?/40",
          " Federal-gov/40",
          " Local-gov/40",
          " Private/40",
          " Self-emp-inc/40",
          " Self-emp-not-inc/40",
          " State-gov/40",
          " ?/41",
          " Federal-gov/41",
          " Local-gov/41",
          " Private/41",
          " Self-emp-inc/41",
          " Self-emp-not-inc/41",
          " State-gov/41",
          " ?/42",
          " Federal-gov/42",
          " Local-gov/42",
          " Private/42",
          " Self-emp-inc/42",
          " Self-emp-not-inc/42",
          " State-gov/42",
          " ?/43",
          " Federal-gov/43",
          " Local-gov/43",
          " Private/43",
          " Self-emp-inc/43",
          " Self-emp-not-inc/43",
          " State-gov/43",
          " ?/44",
          " Federal-gov/44",
          " Local-gov/44",
          " Private/44",
          " Self-emp-inc/44",
          " Self-emp-not-inc/44",
          " State-gov/44",
          " ?/45",
          " Federal-gov/45",
          " Local-gov/45",
          " Private/45",
          " Self-emp-inc/45",
          " Self-emp-not-inc/45",
          " State-gov/45",
          " ?/46",
          " Federal-gov/46",
          " Local-gov/46",
          " Private/46",
          " Self-emp-inc/46",
          " Self-emp-not-inc/46",
          " State-gov/46",
          " Without-pay/46",
          " ?/47",
          " Federal-gov/47",
          " Local-gov/47",
          " Private/47",
          " Self-emp-inc/47",
          " Self-emp-not-inc/47",
          " State-gov/47",
          " ?/48",
          " Federal-gov/48",
          " Local-gov/48",
          " Private/48",
          " Self-emp-inc/48",
          " Self-emp-not-inc/48",
          " State-gov/48",
          " ?/49",
          " Federal-gov/49",
          " Local-gov/49",
          " Private/49",
          " Self-emp-inc/49",
          " Self-emp-not-inc/49",
          " State-gov/49",
          " ?/50",
          " Federal-gov/50",
          " Local-gov/50",
          " Private/50",
          " Self-emp-inc/50",
          " Self-emp-not-inc/50",
          " State-gov/50",
          " ?/51",
          " Federal-gov/51",
          " Local-gov/51",
          " Private/51",
          " Self-emp-inc/51",
          " Self-emp-not-inc/51",
          " State-gov/51",
          " ?/52",
          " Federal-gov/52",
          " Local-gov/52",
          " Private/52",
          " Self-emp-inc/52",
          " Self-emp-not-inc/52",
          " State-gov/52",
          " Without-pay/52",
          " ?/53",
          " Federal-gov/53",
          " Local-gov/53",
          " Private/53",
          " Self-emp-inc/53",
          " Self-emp-not-inc/53",
          " State-gov/53",
          " ?/54",
          " Federal-gov/54",
          " Local-gov/54",
          " Private/54",
          " Self-emp-inc/54",
          " Self-emp-not-inc/54",
          " State-gov/54",
          " ?/55",
          " Federal-gov/55",
          " Local-gov/55",
          " Private/55",
          " Self-emp-inc/55",
          " Self-emp-not-inc/55",
          " State-gov/55",
          " ?/56",
          " Federal-gov/56",
          " Local-gov/56",
          " Private/56",
          " Self-emp-inc/56",
          " Self-emp-not-inc/56",
          " State-gov/56",
          " ?/57",
          " Federal-gov/57",
          " Local-gov/57",
          " Private/57",
          " Self-emp-inc/57",
          " Self-emp-not-inc/57",
          " State-gov/57",
          " ?/58",
          " Federal-gov/58",
          " Local-gov/58",
          " Private/58",
          " Self-emp-inc/58",
          " Self-emp-not-inc/58",
          " State-gov/58",
          " ?/59",
          " Federal-gov/59",
          " Local-gov/59",
          " Private/59",
          " Self-emp-inc/59",
          " Self-emp-not-inc/59",
          " State-gov/59",
          " ?/60",
          " Federal-gov/60",
          " Local-gov/60",
          " Private/60",
          " Self-emp-inc/60",
          " Self-emp-not-inc/60",
          " State-gov/60",
          " ?/61",
          " Federal-gov/61",
          " Local-gov/61",
          " Private/61",
          " Self-emp-inc/61",
          " Self-emp-not-inc/61",
          " State-gov/61",
          " ?/62",
          " Federal-gov/62",
          " Local-gov/62",
          " Private/62",
          " Self-emp-inc/62",
          " Self-emp-not-inc/62",
          " State-gov/62",
          " Without-pay/62",
          " ?/63",
          " Federal-gov/63",
          " Local-gov/63",
          " Private/63",
          " Self-emp-inc/63",
          " Self-emp-not-inc/63",
          " State-gov/63",
          " ?/64",
          " Federal-gov/64",
          " Local-gov/64",
          " Private/64",
          " Self-emp-inc/64",
          " Self-emp-not-inc/64",
          " State-gov/64",
          " ?/65",
          " Federal-gov/65",
          " Local-gov/65",
          " Private/65",
          " Self-emp-inc/65",
          " Self-emp-not-inc/65",
          " State-gov/65",
          " Without-pay/65",
          " ?/66",
          " Federal-gov/66",
          " Local-gov/66",
          " Private/66",
          " Self-emp-inc/66",
          " Self-emp-not-inc/66",
          " State-gov/66",
          " ?/67",
          " Federal-gov/67",
          " Local-gov/67",
          " Private/67",
          " Self-emp-inc/67",
          " Self-emp-not-inc/67",
          " State-gov/67",
          " Without-pay/67",
          " ?/68",
          " Federal-gov/68",
          " Local-gov/68",
          " Private/68",
          " Self-emp-inc/68",
          " Self-emp-not-inc/68",
          " State-gov/68",
          " Without-pay/68",
          " ?/69",
          " Federal-gov/69",
          " Local-gov/69",
          " Private/69",
          " Self-emp-inc/69",
          " Self-emp-not-inc/69",
          " State-gov/69",
          " ?/70",
          " Federal-gov/70",
          " Local-gov/70",
          " Private/70",
          " Self-emp-inc/70",
          " Self-emp-not-inc/70",
          " State-gov/70",
          " ?/71",
          " Federal-gov/71",
          " Local-gov/71",
          " Private/71",
          " Self-emp-inc/71",
          " Self-emp-not-inc/71",
          " State-gov/71",
          " ?/72",
          " Federal-gov/72",
          " Local-gov/72",
          " Private/72",
          " Self-emp-inc/72",
          " Self-emp-not-inc/72",
          " Without-pay/72",
          " ?/73",
          " Federal-gov/73",
          " Local-gov/73",
          " Private/73",
          " Self-emp-inc/73",
          " Self-emp-not-inc/73",
          " State-gov/73",
          " ?/74",
          " Federal-gov/74",
          " Private/74",
          " Self-emp-inc/74",
          " Self-emp-not-inc/74",
          " State-gov/74",
          " ?/75",
          " Local-gov/75",
          " Private/75",
          " Self-emp-inc/75",
          " Self-emp-not-inc/75",
          " State-gov/75",
          " ?/76",
          " Federal-gov/76",
          " Local-gov/76",
          " Private/76",
          " Self-emp-inc/76",
          " Self-emp-not-inc/76",
          " ?/77",
          " Local-gov/77",
          " Private/77",
          " Self-emp-inc/77",
          " Self-emp-not-inc/77",
          " ?/78",
          " Local-gov/78",
          " Private/78",
          " Self-emp-inc/78",
          " Self-emp-not-inc/78",
          " ?/79",
          " Federal-gov/79",
          " Local-gov/79",
          " Private/79",
          " Self-emp-inc/79",
          " Self-emp-not-inc/79",
          " ?/80",
          " Local-gov/80",
          " Private/80",
          " Self-emp-not-inc/80",
          " ?/81",
          " Private/81",
          " Self-emp-inc/81",
          " Self-emp-not-inc/81",
          " State-gov/81",
          " ?/82",
          " Private/82",
          " Self-emp-inc/82",
          " Self-emp-not-inc/82",
          " ?/83",
          " Private/83",
          " Self-emp-inc/83",
          " Self-emp-not-inc/83",
          " ?/84",
          " Local-gov/84",
          " Private/84",
          " Self-emp-inc/84",
          " Self-emp-not-inc/84",
          " Private/85",
          " Self-emp-not-inc/85",
          " Private/86",
          " ?/87",
          " Private/88",
          " Self-emp-not-inc/88",
          " ?/90",
          " Federal-gov/90",
          " Local-gov/90",
          " Private/90",
          " Self-emp-not-inc/90",
          " ?",
          " Federal-gov",
          " Local-gov",
          " Never-worked",
          " Private",
          " Self-emp-inc",
          " Self-emp-not-inc",
          " State-gov",
          " Without-pay"
         ],
         "labels": [
          "17",
          "17",
          "17",
          "17",
          "17",
          "17",
          "17",
          "17",
          "18",
          "18",
          "18",
          "18",
          "18",
          "18",
          "18",
          "18",
          "19",
          "19",
          "19",
          "19",
          "19",
          "19",
          "19",
          "19",
          "20",
          "20",
          "20",
          "20",
          "20",
          "20",
          "20",
          "20",
          "21",
          "21",
          "21",
          "21",
          "21",
          "21",
          "21",
          "21",
          "22",
          "22",
          "22",
          "22",
          "22",
          "22",
          "22",
          "22",
          "23",
          "23",
          "23",
          "23",
          "23",
          "23",
          "23",
          "23",
          "24",
          "24",
          "24",
          "24",
          "24",
          "24",
          "24",
          "25",
          "25",
          "25",
          "25",
          "25",
          "25",
          "25",
          "26",
          "26",
          "26",
          "26",
          "26",
          "26",
          "26",
          "27",
          "27",
          "27",
          "27",
          "27",
          "27",
          "27",
          "28",
          "28",
          "28",
          "28",
          "28",
          "28",
          "28",
          "29",
          "29",
          "29",
          "29",
          "29",
          "29",
          "29",
          "29",
          "30",
          "30",
          "30",
          "30",
          "30",
          "30",
          "30",
          "30",
          "31",
          "31",
          "31",
          "31",
          "31",
          "31",
          "31",
          "32",
          "32",
          "32",
          "32",
          "32",
          "32",
          "32",
          "33",
          "33",
          "33",
          "33",
          "33",
          "33",
          "33",
          "34",
          "34",
          "34",
          "34",
          "34",
          "34",
          "34",
          "35",
          "35",
          "35",
          "35",
          "35",
          "35",
          "35",
          "36",
          "36",
          "36",
          "36",
          "36",
          "36",
          "36",
          "37",
          "37",
          "37",
          "37",
          "37",
          "37",
          "37",
          "38",
          "38",
          "38",
          "38",
          "38",
          "38",
          "38",
          "39",
          "39",
          "39",
          "39",
          "39",
          "39",
          "39",
          "40",
          "40",
          "40",
          "40",
          "40",
          "40",
          "40",
          "41",
          "41",
          "41",
          "41",
          "41",
          "41",
          "41",
          "42",
          "42",
          "42",
          "42",
          "42",
          "42",
          "42",
          "43",
          "43",
          "43",
          "43",
          "43",
          "43",
          "43",
          "44",
          "44",
          "44",
          "44",
          "44",
          "44",
          "44",
          "45",
          "45",
          "45",
          "45",
          "45",
          "45",
          "45",
          "46",
          "46",
          "46",
          "46",
          "46",
          "46",
          "46",
          "46",
          "47",
          "47",
          "47",
          "47",
          "47",
          "47",
          "47",
          "48",
          "48",
          "48",
          "48",
          "48",
          "48",
          "48",
          "49",
          "49",
          "49",
          "49",
          "49",
          "49",
          "49",
          "50",
          "50",
          "50",
          "50",
          "50",
          "50",
          "50",
          "51",
          "51",
          "51",
          "51",
          "51",
          "51",
          "51",
          "52",
          "52",
          "52",
          "52",
          "52",
          "52",
          "52",
          "52",
          "53",
          "53",
          "53",
          "53",
          "53",
          "53",
          "53",
          "54",
          "54",
          "54",
          "54",
          "54",
          "54",
          "54",
          "55",
          "55",
          "55",
          "55",
          "55",
          "55",
          "55",
          "56",
          "56",
          "56",
          "56",
          "56",
          "56",
          "56",
          "57",
          "57",
          "57",
          "57",
          "57",
          "57",
          "57",
          "58",
          "58",
          "58",
          "58",
          "58",
          "58",
          "58",
          "59",
          "59",
          "59",
          "59",
          "59",
          "59",
          "59",
          "60",
          "60",
          "60",
          "60",
          "60",
          "60",
          "60",
          "61",
          "61",
          "61",
          "61",
          "61",
          "61",
          "61",
          "62",
          "62",
          "62",
          "62",
          "62",
          "62",
          "62",
          "62",
          "63",
          "63",
          "63",
          "63",
          "63",
          "63",
          "63",
          "64",
          "64",
          "64",
          "64",
          "64",
          "64",
          "64",
          "65",
          "65",
          "65",
          "65",
          "65",
          "65",
          "65",
          "65",
          "66",
          "66",
          "66",
          "66",
          "66",
          "66",
          "66",
          "67",
          "67",
          "67",
          "67",
          "67",
          "67",
          "67",
          "67",
          "68",
          "68",
          "68",
          "68",
          "68",
          "68",
          "68",
          "68",
          "69",
          "69",
          "69",
          "69",
          "69",
          "69",
          "69",
          "70",
          "70",
          "70",
          "70",
          "70",
          "70",
          "70",
          "71",
          "71",
          "71",
          "71",
          "71",
          "71",
          "71",
          "72",
          "72",
          "72",
          "72",
          "72",
          "72",
          "72",
          "73",
          "73",
          "73",
          "73",
          "73",
          "73",
          "73",
          "74",
          "74",
          "74",
          "74",
          "74",
          "74",
          "75",
          "75",
          "75",
          "75",
          "75",
          "75",
          "76",
          "76",
          "76",
          "76",
          "76",
          "76",
          "77",
          "77",
          "77",
          "77",
          "77",
          "78",
          "78",
          "78",
          "78",
          "78",
          "79",
          "79",
          "79",
          "79",
          "79",
          "79",
          "80",
          "80",
          "80",
          "80",
          "81",
          "81",
          "81",
          "81",
          "81",
          "82",
          "82",
          "82",
          "82",
          "83",
          "83",
          "83",
          "83",
          "84",
          "84",
          "84",
          "84",
          "84",
          "85",
          "85",
          "86",
          "87",
          "88",
          "88",
          "90",
          "90",
          "90",
          "90",
          "90",
          " ?",
          " Federal-gov",
          " Local-gov",
          " Never-worked",
          " Private",
          " Self-emp-inc",
          " Self-emp-not-inc",
          " State-gov",
          " Without-pay"
         ],
         "level": "741a85",
         "name": "",
         "parents": [
          " ?",
          " Federal-gov",
          " Local-gov",
          " Never-worked",
          " Private",
          " Self-emp-inc",
          " Self-emp-not-inc",
          " State-gov",
          " ?",
          " Federal-gov",
          " Local-gov",
          " Never-worked",
          " Private",
          " Self-emp-inc",
          " Self-emp-not-inc",
          " State-gov",
          " ?",
          " Federal-gov",
          " Local-gov",
          " Private",
          " Self-emp-inc",
          " Self-emp-not-inc",
          " State-gov",
          " Without-pay",
          " ?",
          " Federal-gov",
          " Local-gov",
          " Never-worked",
          " Private",
          " Self-emp-inc",
          " Self-emp-not-inc",
          " State-gov",
          " ?",
          " Federal-gov",
          " Local-gov",
          " Private",
          " Self-emp-inc",
          " Self-emp-not-inc",
          " State-gov",
          " Without-pay",
          " ?",
          " Federal-gov",
          " Local-gov",
          " Private",
          " Self-emp-inc",
          " Self-emp-not-inc",
          " State-gov",
          " Without-pay",
          " ?",
          " Federal-gov",
          " Local-gov",
          " Never-worked",
          " Private",
          " Self-emp-inc",
          " Self-emp-not-inc",
          " State-gov",
          " ?",
          " Federal-gov",
          " Local-gov",
          " Private",
          " Self-emp-inc",
          " Self-emp-not-inc",
          " State-gov",
          " ?",
          " Federal-gov",
          " Local-gov",
          " Private",
          " Self-emp-inc",
          " Self-emp-not-inc",
          " State-gov",
          " ?",
          " Federal-gov",
          " Local-gov",
          " Private",
          " Self-emp-inc",
          " Self-emp-not-inc",
          " State-gov",
          " ?",
          " Federal-gov",
          " Local-gov",
          " Private",
          " Self-emp-inc",
          " Self-emp-not-inc",
          " State-gov",
          " ?",
          " Federal-gov",
          " Local-gov",
          " Private",
          " Self-emp-inc",
          " Self-emp-not-inc",
          " State-gov",
          " ?",
          " Federal-gov",
          " Local-gov",
          " Private",
          " Self-emp-inc",
          " Self-emp-not-inc",
          " State-gov",
          " Without-pay",
          " ?",
          " Federal-gov",
          " Local-gov",
          " Never-worked",
          " Private",
          " Self-emp-inc",
          " Self-emp-not-inc",
          " State-gov",
          " ?",
          " Federal-gov",
          " Local-gov",
          " Private",
          " Self-emp-inc",
          " Self-emp-not-inc",
          " State-gov",
          " ?",
          " Federal-gov",
          " Local-gov",
          " Private",
          " Self-emp-inc",
          " Self-emp-not-inc",
          " State-gov",
          " ?",
          " Federal-gov",
          " Local-gov",
          " Private",
          " Self-emp-inc",
          " Self-emp-not-inc",
          " State-gov",
          " ?",
          " Federal-gov",
          " Local-gov",
          " Private",
          " Self-emp-inc",
          " Self-emp-not-inc",
          " State-gov",
          " ?",
          " Federal-gov",
          " Local-gov",
          " Private",
          " Self-emp-inc",
          " Self-emp-not-inc",
          " State-gov",
          " ?",
          " Federal-gov",
          " Local-gov",
          " Private",
          " Self-emp-inc",
          " Self-emp-not-inc",
          " State-gov",
          " ?",
          " Federal-gov",
          " Local-gov",
          " Private",
          " Self-emp-inc",
          " Self-emp-not-inc",
          " State-gov",
          " ?",
          " Federal-gov",
          " Local-gov",
          " Private",
          " Self-emp-inc",
          " Self-emp-not-inc",
          " State-gov",
          " ?",
          " Federal-gov",
          " Local-gov",
          " Private",
          " Self-emp-inc",
          " Self-emp-not-inc",
          " State-gov",
          " ?",
          " Federal-gov",
          " Local-gov",
          " Private",
          " Self-emp-inc",
          " Self-emp-not-inc",
          " State-gov",
          " ?",
          " Federal-gov",
          " Local-gov",
          " Private",
          " Self-emp-inc",
          " Self-emp-not-inc",
          " State-gov",
          " ?",
          " Federal-gov",
          " Local-gov",
          " Private",
          " Self-emp-inc",
          " Self-emp-not-inc",
          " State-gov",
          " ?",
          " Federal-gov",
          " Local-gov",
          " Private",
          " Self-emp-inc",
          " Self-emp-not-inc",
          " State-gov",
          " ?",
          " Federal-gov",
          " Local-gov",
          " Private",
          " Self-emp-inc",
          " Self-emp-not-inc",
          " State-gov",
          " ?",
          " Federal-gov",
          " Local-gov",
          " Private",
          " Self-emp-inc",
          " Self-emp-not-inc",
          " State-gov",
          " ?",
          " Federal-gov",
          " Local-gov",
          " Private",
          " Self-emp-inc",
          " Self-emp-not-inc",
          " State-gov",
          " Without-pay",
          " ?",
          " Federal-gov",
          " Local-gov",
          " Private",
          " Self-emp-inc",
          " Self-emp-not-inc",
          " State-gov",
          " ?",
          " Federal-gov",
          " Local-gov",
          " Private",
          " Self-emp-inc",
          " Self-emp-not-inc",
          " State-gov",
          " ?",
          " Federal-gov",
          " Local-gov",
          " Private",
          " Self-emp-inc",
          " Self-emp-not-inc",
          " State-gov",
          " ?",
          " Federal-gov",
          " Local-gov",
          " Private",
          " Self-emp-inc",
          " Self-emp-not-inc",
          " State-gov",
          " ?",
          " Federal-gov",
          " Local-gov",
          " Private",
          " Self-emp-inc",
          " Self-emp-not-inc",
          " State-gov",
          " ?",
          " Federal-gov",
          " Local-gov",
          " Private",
          " Self-emp-inc",
          " Self-emp-not-inc",
          " State-gov",
          " Without-pay",
          " ?",
          " Federal-gov",
          " Local-gov",
          " Private",
          " Self-emp-inc",
          " Self-emp-not-inc",
          " State-gov",
          " ?",
          " Federal-gov",
          " Local-gov",
          " Private",
          " Self-emp-inc",
          " Self-emp-not-inc",
          " State-gov",
          " ?",
          " Federal-gov",
          " Local-gov",
          " Private",
          " Self-emp-inc",
          " Self-emp-not-inc",
          " State-gov",
          " ?",
          " Federal-gov",
          " Local-gov",
          " Private",
          " Self-emp-inc",
          " Self-emp-not-inc",
          " State-gov",
          " ?",
          " Federal-gov",
          " Local-gov",
          " Private",
          " Self-emp-inc",
          " Self-emp-not-inc",
          " State-gov",
          " ?",
          " Federal-gov",
          " Local-gov",
          " Private",
          " Self-emp-inc",
          " Self-emp-not-inc",
          " State-gov",
          " ?",
          " Federal-gov",
          " Local-gov",
          " Private",
          " Self-emp-inc",
          " Self-emp-not-inc",
          " State-gov",
          " ?",
          " Federal-gov",
          " Local-gov",
          " Private",
          " Self-emp-inc",
          " Self-emp-not-inc",
          " State-gov",
          " ?",
          " Federal-gov",
          " Local-gov",
          " Private",
          " Self-emp-inc",
          " Self-emp-not-inc",
          " State-gov",
          " ?",
          " Federal-gov",
          " Local-gov",
          " Private",
          " Self-emp-inc",
          " Self-emp-not-inc",
          " State-gov",
          " Without-pay",
          " ?",
          " Federal-gov",
          " Local-gov",
          " Private",
          " Self-emp-inc",
          " Self-emp-not-inc",
          " State-gov",
          " ?",
          " Federal-gov",
          " Local-gov",
          " Private",
          " Self-emp-inc",
          " Self-emp-not-inc",
          " State-gov",
          " ?",
          " Federal-gov",
          " Local-gov",
          " Private",
          " Self-emp-inc",
          " Self-emp-not-inc",
          " State-gov",
          " Without-pay",
          " ?",
          " Federal-gov",
          " Local-gov",
          " Private",
          " Self-emp-inc",
          " Self-emp-not-inc",
          " State-gov",
          " ?",
          " Federal-gov",
          " Local-gov",
          " Private",
          " Self-emp-inc",
          " Self-emp-not-inc",
          " State-gov",
          " Without-pay",
          " ?",
          " Federal-gov",
          " Local-gov",
          " Private",
          " Self-emp-inc",
          " Self-emp-not-inc",
          " State-gov",
          " Without-pay",
          " ?",
          " Federal-gov",
          " Local-gov",
          " Private",
          " Self-emp-inc",
          " Self-emp-not-inc",
          " State-gov",
          " ?",
          " Federal-gov",
          " Local-gov",
          " Private",
          " Self-emp-inc",
          " Self-emp-not-inc",
          " State-gov",
          " ?",
          " Federal-gov",
          " Local-gov",
          " Private",
          " Self-emp-inc",
          " Self-emp-not-inc",
          " State-gov",
          " ?",
          " Federal-gov",
          " Local-gov",
          " Private",
          " Self-emp-inc",
          " Self-emp-not-inc",
          " Without-pay",
          " ?",
          " Federal-gov",
          " Local-gov",
          " Private",
          " Self-emp-inc",
          " Self-emp-not-inc",
          " State-gov",
          " ?",
          " Federal-gov",
          " Private",
          " Self-emp-inc",
          " Self-emp-not-inc",
          " State-gov",
          " ?",
          " Local-gov",
          " Private",
          " Self-emp-inc",
          " Self-emp-not-inc",
          " State-gov",
          " ?",
          " Federal-gov",
          " Local-gov",
          " Private",
          " Self-emp-inc",
          " Self-emp-not-inc",
          " ?",
          " Local-gov",
          " Private",
          " Self-emp-inc",
          " Self-emp-not-inc",
          " ?",
          " Local-gov",
          " Private",
          " Self-emp-inc",
          " Self-emp-not-inc",
          " ?",
          " Federal-gov",
          " Local-gov",
          " Private",
          " Self-emp-inc",
          " Self-emp-not-inc",
          " ?",
          " Local-gov",
          " Private",
          " Self-emp-not-inc",
          " ?",
          " Private",
          " Self-emp-inc",
          " Self-emp-not-inc",
          " State-gov",
          " ?",
          " Private",
          " Self-emp-inc",
          " Self-emp-not-inc",
          " ?",
          " Private",
          " Self-emp-inc",
          " Self-emp-not-inc",
          " ?",
          " Local-gov",
          " Private",
          " Self-emp-inc",
          " Self-emp-not-inc",
          " Private",
          " Self-emp-not-inc",
          " Private",
          " ?",
          " Private",
          " Self-emp-not-inc",
          " ?",
          " Federal-gov",
          " Local-gov",
          " Private",
          " Self-emp-not-inc",
          "",
          "",
          "",
          "",
          "",
          "",
          "",
          "",
          ""
         ],
         "type": "treemap",
         "values": [
          64,
          1,
          14,
          1,
          300,
          7,
          6,
          2,
          92,
          3,
          10,
          3,
          413,
          6,
          14,
          9,
          113,
          5,
          11,
          540,
          3,
          17,
          21,
          2,
          115,
          9,
          12,
          1,
          581,
          3,
          11,
          21,
          89,
          3,
          9,
          577,
          1,
          10,
          30,
          1,
          79,
          11,
          20,
          605,
          5,
          13,
          31,
          1,
          46,
          13,
          35,
          1,
          733,
          6,
          13,
          30,
          34,
          14,
          33,
          655,
          6,
          21,
          35,
          32,
          8,
          44,
          693,
          12,
          26,
          26,
          22,
          15,
          42,
          636,
          10,
          33,
          27,
          33,
          16,
          48,
          658,
          13,
          37,
          30,
          41,
          15,
          52,
          667,
          15,
          51,
          26,
          28,
          25,
          46,
          617,
          14,
          52,
          30,
          1,
          28,
          19,
          54,
          1,
          662,
          20,
          48,
          29,
          19,
          22,
          56,
          684,
          17,
          52,
          38,
          25,
          24,
          46,
          621,
          24,
          52,
          36,
          26,
          26,
          56,
          645,
          15,
          72,
          35,
          26,
          17,
          58,
          649,
          28,
          69,
          39,
          32,
          23,
          39,
          649,
          23,
          80,
          30,
          23,
          24,
          63,
          652,
          21,
          74,
          41,
          9,
          33,
          57,
          612,
          33,
          83,
          31,
          17,
          28,
          52,
          598,
          25,
          72,
          35,
          12,
          32,
          58,
          582,
          36,
          62,
          34,
          17,
          29,
          55,
          561,
          34,
          63,
          35,
          18,
          27,
          80,
          535,
          37,
          70,
          41,
          15,
          31,
          76,
          500,
          30,
          89,
          39,
          13,
          36,
          65,
          496,
          36,
          72,
          52,
          10,
          31,
          63,
          480,
          39,
          70,
          31,
          11,
          32,
          68,
          481,
          40,
          68,
          34,
          11,
          41,
          69,
          492,
          36,
          50,
          37,
          1,
          14,
          38,
          62,
          451,
          33,
          78,
          32,
          16,
          20,
          32,
          360,
          35,
          56,
          24,
          18,
          21,
          59,
          350,
          40,
          58,
          31,
          14,
          24,
          56,
          374,
          41,
          67,
          26,
          17,
          28,
          58,
          369,
          33,
          68,
          22,
          14,
          27,
          39,
          307,
          28,
          43,
          19,
          1,
          12,
          26,
          49,
          292,
          22,
          38,
          25,
          16,
          14,
          34,
          256,
          24,
          52,
          19,
          22,
          17,
          34,
          257,
          17,
          53,
          19,
          13,
          15,
          25,
          229,
          19,
          52,
          13,
          16,
          20,
          27,
          200,
          31,
          49,
          15,
          20,
          13,
          27,
          213,
          25,
          50,
          18,
          20,
          16,
          29,
          218,
          16,
          43,
          13,
          31,
          10,
          20,
          175,
          14,
          46,
          16,
          36,
          11,
          19,
          172,
          17,
          37,
          8,
          42,
          6,
          24,
          134,
          10,
          30,
          10,
          2,
          39,
          7,
          11,
          118,
          13,
          38,
          4,
          31,
          11,
          19,
          93,
          13,
          27,
          14,
          39,
          3,
          12,
          88,
          11,
          19,
          4,
          2,
          37,
          2,
          13,
          65,
          11,
          17,
          5,
          39,
          3,
          10,
          51,
          13,
          29,
          5,
          1,
          28,
          2,
          5,
          60,
          4,
          17,
          3,
          1,
          28,
          1,
          7,
          45,
          5,
          15,
          7,
          24,
          1,
          3,
          35,
          11,
          14,
          1,
          18,
          2,
          4,
          32,
          4,
          9,
          3,
          25,
          3,
          2,
          27,
          2,
          7,
          1,
          15,
          1,
          5,
          25,
          3,
          13,
          2,
          12,
          2,
          18,
          4,
          12,
          3,
          11,
          1,
          13,
          4,
          15,
          1,
          16,
          1,
          4,
          17,
          1,
          7,
          9,
          2,
          10,
          3,
          5,
          9,
          1,
          6,
          4,
          3,
          7,
          1,
          2,
          6,
          3,
          3,
          6,
          1,
          8,
          7,
          6,
          8,
          1,
          4,
          1,
          5,
          3,
          2,
          2,
          1,
          1,
          3,
          1,
          2,
          2,
          4,
          1,
          1,
          2,
          1,
          1,
          1,
          1,
          2,
          7,
          1,
          4,
          28,
          3,
          1836,
          960,
          2093,
          7,
          22696,
          1116,
          2541,
          1298,
          14
         ]
        }
       ],
       "layout": {
        "autosize": true,
        "legend": {
         "tracegroupgap": 0
        },
        "margin": {
         "t": 60
        },
        "template": {
         "data": {
          "bar": [
           {
            "error_x": {
             "color": "#2a3f5f"
            },
            "error_y": {
             "color": "#2a3f5f"
            },
            "marker": {
             "line": {
              "color": "#E5ECF6",
              "width": 0.5
             },
             "pattern": {
              "fillmode": "overlay",
              "size": 10,
              "solidity": 0.2
             }
            },
            "type": "bar"
           }
          ],
          "barpolar": [
           {
            "marker": {
             "line": {
              "color": "#E5ECF6",
              "width": 0.5
             },
             "pattern": {
              "fillmode": "overlay",
              "size": 10,
              "solidity": 0.2
             }
            },
            "type": "barpolar"
           }
          ],
          "carpet": [
           {
            "aaxis": {
             "endlinecolor": "#2a3f5f",
             "gridcolor": "white",
             "linecolor": "white",
             "minorgridcolor": "white",
             "startlinecolor": "#2a3f5f"
            },
            "baxis": {
             "endlinecolor": "#2a3f5f",
             "gridcolor": "white",
             "linecolor": "white",
             "minorgridcolor": "white",
             "startlinecolor": "#2a3f5f"
            },
            "type": "carpet"
           }
          ],
          "choropleth": [
           {
            "colorbar": {
             "outlinewidth": 0,
             "ticks": ""
            },
            "type": "choropleth"
           }
          ],
          "contour": [
           {
            "colorbar": {
             "outlinewidth": 0,
             "ticks": ""
            },
            "colorscale": [
             [
              0,
              "#0d0887"
             ],
             [
              0.1111111111111111,
              "#46039f"
             ],
             [
              0.2222222222222222,
              "#7201a8"
             ],
             [
              0.3333333333333333,
              "#9c179e"
             ],
             [
              0.4444444444444444,
              "#bd3786"
             ],
             [
              0.5555555555555556,
              "#d8576b"
             ],
             [
              0.6666666666666666,
              "#ed7953"
             ],
             [
              0.7777777777777778,
              "#fb9f3a"
             ],
             [
              0.8888888888888888,
              "#fdca26"
             ],
             [
              1,
              "#f0f921"
             ]
            ],
            "type": "contour"
           }
          ],
          "contourcarpet": [
           {
            "colorbar": {
             "outlinewidth": 0,
             "ticks": ""
            },
            "type": "contourcarpet"
           }
          ],
          "heatmap": [
           {
            "colorbar": {
             "outlinewidth": 0,
             "ticks": ""
            },
            "colorscale": [
             [
              0,
              "#0d0887"
             ],
             [
              0.1111111111111111,
              "#46039f"
             ],
             [
              0.2222222222222222,
              "#7201a8"
             ],
             [
              0.3333333333333333,
              "#9c179e"
             ],
             [
              0.4444444444444444,
              "#bd3786"
             ],
             [
              0.5555555555555556,
              "#d8576b"
             ],
             [
              0.6666666666666666,
              "#ed7953"
             ],
             [
              0.7777777777777778,
              "#fb9f3a"
             ],
             [
              0.8888888888888888,
              "#fdca26"
             ],
             [
              1,
              "#f0f921"
             ]
            ],
            "type": "heatmap"
           }
          ],
          "heatmapgl": [
           {
            "colorbar": {
             "outlinewidth": 0,
             "ticks": ""
            },
            "colorscale": [
             [
              0,
              "#0d0887"
             ],
             [
              0.1111111111111111,
              "#46039f"
             ],
             [
              0.2222222222222222,
              "#7201a8"
             ],
             [
              0.3333333333333333,
              "#9c179e"
             ],
             [
              0.4444444444444444,
              "#bd3786"
             ],
             [
              0.5555555555555556,
              "#d8576b"
             ],
             [
              0.6666666666666666,
              "#ed7953"
             ],
             [
              0.7777777777777778,
              "#fb9f3a"
             ],
             [
              0.8888888888888888,
              "#fdca26"
             ],
             [
              1,
              "#f0f921"
             ]
            ],
            "type": "heatmapgl"
           }
          ],
          "histogram": [
           {
            "marker": {
             "pattern": {
              "fillmode": "overlay",
              "size": 10,
              "solidity": 0.2
             }
            },
            "type": "histogram"
           }
          ],
          "histogram2d": [
           {
            "colorbar": {
             "outlinewidth": 0,
             "ticks": ""
            },
            "colorscale": [
             [
              0,
              "#0d0887"
             ],
             [
              0.1111111111111111,
              "#46039f"
             ],
             [
              0.2222222222222222,
              "#7201a8"
             ],
             [
              0.3333333333333333,
              "#9c179e"
             ],
             [
              0.4444444444444444,
              "#bd3786"
             ],
             [
              0.5555555555555556,
              "#d8576b"
             ],
             [
              0.6666666666666666,
              "#ed7953"
             ],
             [
              0.7777777777777778,
              "#fb9f3a"
             ],
             [
              0.8888888888888888,
              "#fdca26"
             ],
             [
              1,
              "#f0f921"
             ]
            ],
            "type": "histogram2d"
           }
          ],
          "histogram2dcontour": [
           {
            "colorbar": {
             "outlinewidth": 0,
             "ticks": ""
            },
            "colorscale": [
             [
              0,
              "#0d0887"
             ],
             [
              0.1111111111111111,
              "#46039f"
             ],
             [
              0.2222222222222222,
              "#7201a8"
             ],
             [
              0.3333333333333333,
              "#9c179e"
             ],
             [
              0.4444444444444444,
              "#bd3786"
             ],
             [
              0.5555555555555556,
              "#d8576b"
             ],
             [
              0.6666666666666666,
              "#ed7953"
             ],
             [
              0.7777777777777778,
              "#fb9f3a"
             ],
             [
              0.8888888888888888,
              "#fdca26"
             ],
             [
              1,
              "#f0f921"
             ]
            ],
            "type": "histogram2dcontour"
           }
          ],
          "mesh3d": [
           {
            "colorbar": {
             "outlinewidth": 0,
             "ticks": ""
            },
            "type": "mesh3d"
           }
          ],
          "parcoords": [
           {
            "line": {
             "colorbar": {
              "outlinewidth": 0,
              "ticks": ""
             }
            },
            "type": "parcoords"
           }
          ],
          "pie": [
           {
            "automargin": true,
            "type": "pie"
           }
          ],
          "scatter": [
           {
            "fillpattern": {
             "fillmode": "overlay",
             "size": 10,
             "solidity": 0.2
            },
            "type": "scatter"
           }
          ],
          "scatter3d": [
           {
            "line": {
             "colorbar": {
              "outlinewidth": 0,
              "ticks": ""
             }
            },
            "marker": {
             "colorbar": {
              "outlinewidth": 0,
              "ticks": ""
             }
            },
            "type": "scatter3d"
           }
          ],
          "scattercarpet": [
           {
            "marker": {
             "colorbar": {
              "outlinewidth": 0,
              "ticks": ""
             }
            },
            "type": "scattercarpet"
           }
          ],
          "scattergeo": [
           {
            "marker": {
             "colorbar": {
              "outlinewidth": 0,
              "ticks": ""
             }
            },
            "type": "scattergeo"
           }
          ],
          "scattergl": [
           {
            "marker": {
             "colorbar": {
              "outlinewidth": 0,
              "ticks": ""
             }
            },
            "type": "scattergl"
           }
          ],
          "scattermapbox": [
           {
            "marker": {
             "colorbar": {
              "outlinewidth": 0,
              "ticks": ""
             }
            },
            "type": "scattermapbox"
           }
          ],
          "scatterpolar": [
           {
            "marker": {
             "colorbar": {
              "outlinewidth": 0,
              "ticks": ""
             }
            },
            "type": "scatterpolar"
           }
          ],
          "scatterpolargl": [
           {
            "marker": {
             "colorbar": {
              "outlinewidth": 0,
              "ticks": ""
             }
            },
            "type": "scatterpolargl"
           }
          ],
          "scatterternary": [
           {
            "marker": {
             "colorbar": {
              "outlinewidth": 0,
              "ticks": ""
             }
            },
            "type": "scatterternary"
           }
          ],
          "surface": [
           {
            "colorbar": {
             "outlinewidth": 0,
             "ticks": ""
            },
            "colorscale": [
             [
              0,
              "#0d0887"
             ],
             [
              0.1111111111111111,
              "#46039f"
             ],
             [
              0.2222222222222222,
              "#7201a8"
             ],
             [
              0.3333333333333333,
              "#9c179e"
             ],
             [
              0.4444444444444444,
              "#bd3786"
             ],
             [
              0.5555555555555556,
              "#d8576b"
             ],
             [
              0.6666666666666666,
              "#ed7953"
             ],
             [
              0.7777777777777778,
              "#fb9f3a"
             ],
             [
              0.8888888888888888,
              "#fdca26"
             ],
             [
              1,
              "#f0f921"
             ]
            ],
            "type": "surface"
           }
          ],
          "table": [
           {
            "cells": {
             "fill": {
              "color": "#EBF0F8"
             },
             "line": {
              "color": "white"
             }
            },
            "header": {
             "fill": {
              "color": "#C8D4E3"
             },
             "line": {
              "color": "white"
             }
            },
            "type": "table"
           }
          ]
         },
         "layout": {
          "annotationdefaults": {
           "arrowcolor": "#2a3f5f",
           "arrowhead": 0,
           "arrowwidth": 1
          },
          "autotypenumbers": "strict",
          "coloraxis": {
           "colorbar": {
            "outlinewidth": 0,
            "ticks": ""
           }
          },
          "colorscale": {
           "diverging": [
            [
             0,
             "#8e0152"
            ],
            [
             0.1,
             "#c51b7d"
            ],
            [
             0.2,
             "#de77ae"
            ],
            [
             0.3,
             "#f1b6da"
            ],
            [
             0.4,
             "#fde0ef"
            ],
            [
             0.5,
             "#f7f7f7"
            ],
            [
             0.6,
             "#e6f5d0"
            ],
            [
             0.7,
             "#b8e186"
            ],
            [
             0.8,
             "#7fbc41"
            ],
            [
             0.9,
             "#4d9221"
            ],
            [
             1,
             "#276419"
            ]
           ],
           "sequential": [
            [
             0,
             "#0d0887"
            ],
            [
             0.1111111111111111,
             "#46039f"
            ],
            [
             0.2222222222222222,
             "#7201a8"
            ],
            [
             0.3333333333333333,
             "#9c179e"
            ],
            [
             0.4444444444444444,
             "#bd3786"
            ],
            [
             0.5555555555555556,
             "#d8576b"
            ],
            [
             0.6666666666666666,
             "#ed7953"
            ],
            [
             0.7777777777777778,
             "#fb9f3a"
            ],
            [
             0.8888888888888888,
             "#fdca26"
            ],
            [
             1,
             "#f0f921"
            ]
           ],
           "sequentialminus": [
            [
             0,
             "#0d0887"
            ],
            [
             0.1111111111111111,
             "#46039f"
            ],
            [
             0.2222222222222222,
             "#7201a8"
            ],
            [
             0.3333333333333333,
             "#9c179e"
            ],
            [
             0.4444444444444444,
             "#bd3786"
            ],
            [
             0.5555555555555556,
             "#d8576b"
            ],
            [
             0.6666666666666666,
             "#ed7953"
            ],
            [
             0.7777777777777778,
             "#fb9f3a"
            ],
            [
             0.8888888888888888,
             "#fdca26"
            ],
            [
             1,
             "#f0f921"
            ]
           ]
          },
          "colorway": [
           "#636efa",
           "#EF553B",
           "#00cc96",
           "#ab63fa",
           "#FFA15A",
           "#19d3f3",
           "#FF6692",
           "#B6E880",
           "#FF97FF",
           "#FECB52"
          ],
          "font": {
           "color": "#2a3f5f"
          },
          "geo": {
           "bgcolor": "white",
           "lakecolor": "white",
           "landcolor": "#E5ECF6",
           "showlakes": true,
           "showland": true,
           "subunitcolor": "white"
          },
          "hoverlabel": {
           "align": "left"
          },
          "hovermode": "closest",
          "mapbox": {
           "style": "light"
          },
          "paper_bgcolor": "white",
          "plot_bgcolor": "#E5ECF6",
          "polar": {
           "angularaxis": {
            "gridcolor": "white",
            "linecolor": "white",
            "ticks": ""
           },
           "bgcolor": "#E5ECF6",
           "radialaxis": {
            "gridcolor": "white",
            "linecolor": "white",
            "ticks": ""
           }
          },
          "scene": {
           "xaxis": {
            "backgroundcolor": "#E5ECF6",
            "gridcolor": "white",
            "gridwidth": 2,
            "linecolor": "white",
            "showbackground": true,
            "ticks": "",
            "zerolinecolor": "white"
           },
           "yaxis": {
            "backgroundcolor": "#E5ECF6",
            "gridcolor": "white",
            "gridwidth": 2,
            "linecolor": "white",
            "showbackground": true,
            "ticks": "",
            "zerolinecolor": "white"
           },
           "zaxis": {
            "backgroundcolor": "#E5ECF6",
            "gridcolor": "white",
            "gridwidth": 2,
            "linecolor": "white",
            "showbackground": true,
            "ticks": "",
            "zerolinecolor": "white"
           }
          },
          "shapedefaults": {
           "line": {
            "color": "#2a3f5f"
           }
          },
          "ternary": {
           "aaxis": {
            "gridcolor": "white",
            "linecolor": "white",
            "ticks": ""
           },
           "baxis": {
            "gridcolor": "white",
            "linecolor": "white",
            "ticks": ""
           },
           "bgcolor": "#E5ECF6",
           "caxis": {
            "gridcolor": "white",
            "linecolor": "white",
            "ticks": ""
           }
          },
          "title": {
           "x": 0.05
          },
          "xaxis": {
           "automargin": true,
           "gridcolor": "white",
           "linecolor": "white",
           "ticks": "",
           "title": {
            "standoff": 15
           },
           "zerolinecolor": "white",
           "zerolinewidth": 2
          },
          "yaxis": {
           "automargin": true,
           "gridcolor": "white",
           "linecolor": "white",
           "ticks": "",
           "title": {
            "standoff": 15
           },
           "zerolinecolor": "white",
           "zerolinewidth": 2
          }
         }
        }
       }
      },
      "image/png": "[encoded data removed]",
      "text/html": [
       "<div>                            <div id=\"7867eb7a-5602-4d1a-86fc-9810e09ad294\" class=\"plotly-graph-div\" style=\"height:525px; width:100%;\"></div>            <script type=\"text/javascript\">                require([\"plotly\"], function(Plotly) {                    window.PLOTLYENV=window.PLOTLYENV || {};                                    if (document.getElementById(\"7867eb7a-5602-4d1a-86fc-9810e09ad294\")) {                    Plotly.newPlot(                        \"7867eb7a-5602-4d1a-86fc-9810e09ad294\",                        [{\"branchvalues\":\"total\",\"domain\":{\"x\":[0.0,1.0],\"y\":[0.0,1.0]},\"hovertemplate\":\"labels=%{label}\\u003cbr\\u003ecount=%{value}\\u003cbr\\u003eparent=%{parent}\\u003cbr\\u003eid=%{id}\\u003cextra\\u003e\\u003c\\u002fextra\\u003e\",\"ids\":[\" ?\\u002f17\",\" Federal-gov\\u002f17\",\" Local-gov\\u002f17\",\" Never-worked\\u002f17\",\" Private\\u002f17\",\" Self-emp-inc\\u002f17\",\" Self-emp-not-inc\\u002f17\",\" State-gov\\u002f17\",\" ?\\u002f18\",\" Federal-gov\\u002f18\",\" Local-gov\\u002f18\",\" Never-worked\\u002f18\",\" Private\\u002f18\",\" Self-emp-inc\\u002f18\",\" Self-emp-not-inc\\u002f18\",\" State-gov\\u002f18\",\" ?\\u002f19\",\" Federal-gov\\u002f19\",\" Local-gov\\u002f19\",\" Private\\u002f19\",\" Self-emp-inc\\u002f19\",\" Self-emp-not-inc\\u002f19\",\" State-gov\\u002f19\",\" Without-pay\\u002f19\",\" ?\\u002f20\",\" Federal-gov\\u002f20\",\" Local-gov\\u002f20\",\" Never-worked\\u002f20\",\" Private\\u002f20\",\" Self-emp-inc\\u002f20\",\" Self-emp-not-inc\\u002f20\",\" State-gov\\u002f20\",\" ?\\u002f21\",\" Federal-gov\\u002f21\",\" Local-gov\\u002f21\",\" Private\\u002f21\",\" Self-emp-inc\\u002f21\",\" Self-emp-not-inc\\u002f21\",\" State-gov\\u002f21\",\" Without-pay\\u002f21\",\" ?\\u002f22\",\" Federal-gov\\u002f22\",\" Local-gov\\u002f22\",\" Private\\u002f22\",\" Self-emp-inc\\u002f22\",\" Self-emp-not-inc\\u002f22\",\" State-gov\\u002f22\",\" Without-pay\\u002f22\",\" ?\\u002f23\",\" Federal-gov\\u002f23\",\" Local-gov\\u002f23\",\" Never-worked\\u002f23\",\" Private\\u002f23\",\" Self-emp-inc\\u002f23\",\" Self-emp-not-inc\\u002f23\",\" State-gov\\u002f23\",\" ?\\u002f24\",\" Federal-gov\\u002f24\",\" Local-gov\\u002f24\",\" Private\\u002f24\",\" Self-emp-inc\\u002f24\",\" Self-emp-not-inc\\u002f24\",\" State-gov\\u002f24\",\" ?\\u002f25\",\" Federal-gov\\u002f25\",\" Local-gov\\u002f25\",\" Private\\u002f25\",\" Self-emp-inc\\u002f25\",\" Self-emp-not-inc\\u002f25\",\" State-gov\\u002f25\",\" ?\\u002f26\",\" Federal-gov\\u002f26\",\" Local-gov\\u002f26\",\" Private\\u002f26\",\" Self-emp-inc\\u002f26\",\" Self-emp-not-inc\\u002f26\",\" State-gov\\u002f26\",\" ?\\u002f27\",\" Federal-gov\\u002f27\",\" Local-gov\\u002f27\",\" Private\\u002f27\",\" Self-emp-inc\\u002f27\",\" Self-emp-not-inc\\u002f27\",\" State-gov\\u002f27\",\" ?\\u002f28\",\" Federal-gov\\u002f28\",\" Local-gov\\u002f28\",\" Private\\u002f28\",\" Self-emp-inc\\u002f28\",\" Self-emp-not-inc\\u002f28\",\" State-gov\\u002f28\",\" ?\\u002f29\",\" Federal-gov\\u002f29\",\" Local-gov\\u002f29\",\" Private\\u002f29\",\" Self-emp-inc\\u002f29\",\" Self-emp-not-inc\\u002f29\",\" State-gov\\u002f29\",\" Without-pay\\u002f29\",\" ?\\u002f30\",\" Federal-gov\\u002f30\",\" Local-gov\\u002f30\",\" Never-worked\\u002f30\",\" Private\\u002f30\",\" Self-emp-inc\\u002f30\",\" Self-emp-not-inc\\u002f30\",\" State-gov\\u002f30\",\" ?\\u002f31\",\" Federal-gov\\u002f31\",\" Local-gov\\u002f31\",\" Private\\u002f31\",\" Self-emp-inc\\u002f31\",\" Self-emp-not-inc\\u002f31\",\" State-gov\\u002f31\",\" ?\\u002f32\",\" Federal-gov\\u002f32\",\" Local-gov\\u002f32\",\" Private\\u002f32\",\" Self-emp-inc\\u002f32\",\" Self-emp-not-inc\\u002f32\",\" State-gov\\u002f32\",\" ?\\u002f33\",\" Federal-gov\\u002f33\",\" Local-gov\\u002f33\",\" Private\\u002f33\",\" Self-emp-inc\\u002f33\",\" Self-emp-not-inc\\u002f33\",\" State-gov\\u002f33\",\" ?\\u002f34\",\" Federal-gov\\u002f34\",\" Local-gov\\u002f34\",\" Private\\u002f34\",\" Self-emp-inc\\u002f34\",\" Self-emp-not-inc\\u002f34\",\" State-gov\\u002f34\",\" ?\\u002f35\",\" Federal-gov\\u002f35\",\" Local-gov\\u002f35\",\" Private\\u002f35\",\" Self-emp-inc\\u002f35\",\" Self-emp-not-inc\\u002f35\",\" State-gov\\u002f35\",\" ?\\u002f36\",\" Federal-gov\\u002f36\",\" Local-gov\\u002f36\",\" Private\\u002f36\",\" Self-emp-inc\\u002f36\",\" Self-emp-not-inc\\u002f36\",\" State-gov\\u002f36\",\" ?\\u002f37\",\" Federal-gov\\u002f37\",\" Local-gov\\u002f37\",\" Private\\u002f37\",\" Self-emp-inc\\u002f37\",\" Self-emp-not-inc\\u002f37\",\" State-gov\\u002f37\",\" ?\\u002f38\",\" Federal-gov\\u002f38\",\" Local-gov\\u002f38\",\" Private\\u002f38\",\" Self-emp-inc\\u002f38\",\" Self-emp-not-inc\\u002f38\",\" State-gov\\u002f38\",\" ?\\u002f39\",\" Federal-gov\\u002f39\",\" Local-gov\\u002f39\",\" Private\\u002f39\",\" Self-emp-inc\\u002f39\",\" Self-emp-not-inc\\u002f39\",\" State-gov\\u002f39\",\" ?\\u002f40\",\" Federal-gov\\u002f40\",\" Local-gov\\u002f40\",\" Private\\u002f40\",\" Self-emp-inc\\u002f40\",\" Self-emp-not-inc\\u002f40\",\" State-gov\\u002f40\",\" ?\\u002f41\",\" Federal-gov\\u002f41\",\" Local-gov\\u002f41\",\" Private\\u002f41\",\" Self-emp-inc\\u002f41\",\" Self-emp-not-inc\\u002f41\",\" State-gov\\u002f41\",\" ?\\u002f42\",\" Federal-gov\\u002f42\",\" Local-gov\\u002f42\",\" Private\\u002f42\",\" Self-emp-inc\\u002f42\",\" Self-emp-not-inc\\u002f42\",\" State-gov\\u002f42\",\" ?\\u002f43\",\" Federal-gov\\u002f43\",\" Local-gov\\u002f43\",\" Private\\u002f43\",\" Self-emp-inc\\u002f43\",\" Self-emp-not-inc\\u002f43\",\" State-gov\\u002f43\",\" ?\\u002f44\",\" Federal-gov\\u002f44\",\" Local-gov\\u002f44\",\" Private\\u002f44\",\" Self-emp-inc\\u002f44\",\" Self-emp-not-inc\\u002f44\",\" State-gov\\u002f44\",\" ?\\u002f45\",\" Federal-gov\\u002f45\",\" Local-gov\\u002f45\",\" Private\\u002f45\",\" Self-emp-inc\\u002f45\",\" Self-emp-not-inc\\u002f45\",\" State-gov\\u002f45\",\" ?\\u002f46\",\" Federal-gov\\u002f46\",\" Local-gov\\u002f46\",\" Private\\u002f46\",\" Self-emp-inc\\u002f46\",\" Self-emp-not-inc\\u002f46\",\" State-gov\\u002f46\",\" Without-pay\\u002f46\",\" ?\\u002f47\",\" Federal-gov\\u002f47\",\" Local-gov\\u002f47\",\" Private\\u002f47\",\" Self-emp-inc\\u002f47\",\" Self-emp-not-inc\\u002f47\",\" State-gov\\u002f47\",\" ?\\u002f48\",\" Federal-gov\\u002f48\",\" Local-gov\\u002f48\",\" Private\\u002f48\",\" Self-emp-inc\\u002f48\",\" Self-emp-not-inc\\u002f48\",\" State-gov\\u002f48\",\" ?\\u002f49\",\" Federal-gov\\u002f49\",\" Local-gov\\u002f49\",\" Private\\u002f49\",\" Self-emp-inc\\u002f49\",\" Self-emp-not-inc\\u002f49\",\" State-gov\\u002f49\",\" ?\\u002f50\",\" Federal-gov\\u002f50\",\" Local-gov\\u002f50\",\" Private\\u002f50\",\" Self-emp-inc\\u002f50\",\" Self-emp-not-inc\\u002f50\",\" State-gov\\u002f50\",\" ?\\u002f51\",\" Federal-gov\\u002f51\",\" Local-gov\\u002f51\",\" Private\\u002f51\",\" Self-emp-inc\\u002f51\",\" Self-emp-not-inc\\u002f51\",\" State-gov\\u002f51\",\" ?\\u002f52\",\" Federal-gov\\u002f52\",\" Local-gov\\u002f52\",\" Private\\u002f52\",\" Self-emp-inc\\u002f52\",\" Self-emp-not-inc\\u002f52\",\" State-gov\\u002f52\",\" Without-pay\\u002f52\",\" ?\\u002f53\",\" Federal-gov\\u002f53\",\" Local-gov\\u002f53\",\" Private\\u002f53\",\" Self-emp-inc\\u002f53\",\" Self-emp-not-inc\\u002f53\",\" State-gov\\u002f53\",\" ?\\u002f54\",\" Federal-gov\\u002f54\",\" Local-gov\\u002f54\",\" Private\\u002f54\",\" Self-emp-inc\\u002f54\",\" Self-emp-not-inc\\u002f54\",\" State-gov\\u002f54\",\" ?\\u002f55\",\" Federal-gov\\u002f55\",\" Local-gov\\u002f55\",\" Private\\u002f55\",\" Self-emp-inc\\u002f55\",\" Self-emp-not-inc\\u002f55\",\" State-gov\\u002f55\",\" ?\\u002f56\",\" Federal-gov\\u002f56\",\" Local-gov\\u002f56\",\" Private\\u002f56\",\" Self-emp-inc\\u002f56\",\" Self-emp-not-inc\\u002f56\",\" State-gov\\u002f56\",\" ?\\u002f57\",\" Federal-gov\\u002f57\",\" Local-gov\\u002f57\",\" Private\\u002f57\",\" Self-emp-inc\\u002f57\",\" Self-emp-not-inc\\u002f57\",\" State-gov\\u002f57\",\" ?\\u002f58\",\" Federal-gov\\u002f58\",\" Local-gov\\u002f58\",\" Private\\u002f58\",\" Self-emp-inc\\u002f58\",\" Self-emp-not-inc\\u002f58\",\" State-gov\\u002f58\",\" ?\\u002f59\",\" Federal-gov\\u002f59\",\" Local-gov\\u002f59\",\" Private\\u002f59\",\" Self-emp-inc\\u002f59\",\" Self-emp-not-inc\\u002f59\",\" State-gov\\u002f59\",\" ?\\u002f60\",\" Federal-gov\\u002f60\",\" Local-gov\\u002f60\",\" Private\\u002f60\",\" Self-emp-inc\\u002f60\",\" Self-emp-not-inc\\u002f60\",\" State-gov\\u002f60\",\" ?\\u002f61\",\" Federal-gov\\u002f61\",\" Local-gov\\u002f61\",\" Private\\u002f61\",\" Self-emp-inc\\u002f61\",\" Self-emp-not-inc\\u002f61\",\" State-gov\\u002f61\",\" ?\\u002f62\",\" Federal-gov\\u002f62\",\" Local-gov\\u002f62\",\" Private\\u002f62\",\" Self-emp-inc\\u002f62\",\" Self-emp-not-inc\\u002f62\",\" State-gov\\u002f62\",\" Without-pay\\u002f62\",\" ?\\u002f63\",\" Federal-gov\\u002f63\",\" Local-gov\\u002f63\",\" Private\\u002f63\",\" Self-emp-inc\\u002f63\",\" Self-emp-not-inc\\u002f63\",\" State-gov\\u002f63\",\" ?\\u002f64\",\" Federal-gov\\u002f64\",\" Local-gov\\u002f64\",\" Private\\u002f64\",\" Self-emp-inc\\u002f64\",\" Self-emp-not-inc\\u002f64\",\" State-gov\\u002f64\",\" ?\\u002f65\",\" Federal-gov\\u002f65\",\" Local-gov\\u002f65\",\" Private\\u002f65\",\" Self-emp-inc\\u002f65\",\" Self-emp-not-inc\\u002f65\",\" State-gov\\u002f65\",\" Without-pay\\u002f65\",\" ?\\u002f66\",\" Federal-gov\\u002f66\",\" Local-gov\\u002f66\",\" Private\\u002f66\",\" Self-emp-inc\\u002f66\",\" Self-emp-not-inc\\u002f66\",\" State-gov\\u002f66\",\" ?\\u002f67\",\" Federal-gov\\u002f67\",\" Local-gov\\u002f67\",\" Private\\u002f67\",\" Self-emp-inc\\u002f67\",\" Self-emp-not-inc\\u002f67\",\" State-gov\\u002f67\",\" Without-pay\\u002f67\",\" ?\\u002f68\",\" Federal-gov\\u002f68\",\" Local-gov\\u002f68\",\" Private\\u002f68\",\" Self-emp-inc\\u002f68\",\" Self-emp-not-inc\\u002f68\",\" State-gov\\u002f68\",\" Without-pay\\u002f68\",\" ?\\u002f69\",\" Federal-gov\\u002f69\",\" Local-gov\\u002f69\",\" Private\\u002f69\",\" Self-emp-inc\\u002f69\",\" Self-emp-not-inc\\u002f69\",\" State-gov\\u002f69\",\" ?\\u002f70\",\" Federal-gov\\u002f70\",\" Local-gov\\u002f70\",\" Private\\u002f70\",\" Self-emp-inc\\u002f70\",\" Self-emp-not-inc\\u002f70\",\" State-gov\\u002f70\",\" ?\\u002f71\",\" Federal-gov\\u002f71\",\" Local-gov\\u002f71\",\" Private\\u002f71\",\" Self-emp-inc\\u002f71\",\" Self-emp-not-inc\\u002f71\",\" State-gov\\u002f71\",\" ?\\u002f72\",\" Federal-gov\\u002f72\",\" Local-gov\\u002f72\",\" Private\\u002f72\",\" Self-emp-inc\\u002f72\",\" Self-emp-not-inc\\u002f72\",\" Without-pay\\u002f72\",\" ?\\u002f73\",\" Federal-gov\\u002f73\",\" Local-gov\\u002f73\",\" Private\\u002f73\",\" Self-emp-inc\\u002f73\",\" Self-emp-not-inc\\u002f73\",\" State-gov\\u002f73\",\" ?\\u002f74\",\" Federal-gov\\u002f74\",\" Private\\u002f74\",\" Self-emp-inc\\u002f74\",\" Self-emp-not-inc\\u002f74\",\" State-gov\\u002f74\",\" ?\\u002f75\",\" Local-gov\\u002f75\",\" Private\\u002f75\",\" Self-emp-inc\\u002f75\",\" Self-emp-not-inc\\u002f75\",\" State-gov\\u002f75\",\" ?\\u002f76\",\" Federal-gov\\u002f76\",\" Local-gov\\u002f76\",\" Private\\u002f76\",\" Self-emp-inc\\u002f76\",\" Self-emp-not-inc\\u002f76\",\" ?\\u002f77\",\" Local-gov\\u002f77\",\" Private\\u002f77\",\" Self-emp-inc\\u002f77\",\" Self-emp-not-inc\\u002f77\",\" ?\\u002f78\",\" Local-gov\\u002f78\",\" Private\\u002f78\",\" Self-emp-inc\\u002f78\",\" Self-emp-not-inc\\u002f78\",\" ?\\u002f79\",\" Federal-gov\\u002f79\",\" Local-gov\\u002f79\",\" Private\\u002f79\",\" Self-emp-inc\\u002f79\",\" Self-emp-not-inc\\u002f79\",\" ?\\u002f80\",\" Local-gov\\u002f80\",\" Private\\u002f80\",\" Self-emp-not-inc\\u002f80\",\" ?\\u002f81\",\" Private\\u002f81\",\" Self-emp-inc\\u002f81\",\" Self-emp-not-inc\\u002f81\",\" State-gov\\u002f81\",\" ?\\u002f82\",\" Private\\u002f82\",\" Self-emp-inc\\u002f82\",\" Self-emp-not-inc\\u002f82\",\" ?\\u002f83\",\" Private\\u002f83\",\" Self-emp-inc\\u002f83\",\" Self-emp-not-inc\\u002f83\",\" ?\\u002f84\",\" Local-gov\\u002f84\",\" Private\\u002f84\",\" Self-emp-inc\\u002f84\",\" Self-emp-not-inc\\u002f84\",\" Private\\u002f85\",\" Self-emp-not-inc\\u002f85\",\" Private\\u002f86\",\" ?\\u002f87\",\" Private\\u002f88\",\" Self-emp-not-inc\\u002f88\",\" ?\\u002f90\",\" Federal-gov\\u002f90\",\" Local-gov\\u002f90\",\" Private\\u002f90\",\" Self-emp-not-inc\\u002f90\",\" ?\",\" Federal-gov\",\" Local-gov\",\" Never-worked\",\" Private\",\" Self-emp-inc\",\" Self-emp-not-inc\",\" State-gov\",\" Without-pay\"],\"labels\":[\"17\",\"17\",\"17\",\"17\",\"17\",\"17\",\"17\",\"17\",\"18\",\"18\",\"18\",\"18\",\"18\",\"18\",\"18\",\"18\",\"19\",\"19\",\"19\",\"19\",\"19\",\"19\",\"19\",\"19\",\"20\",\"20\",\"20\",\"20\",\"20\",\"20\",\"20\",\"20\",\"21\",\"21\",\"21\",\"21\",\"21\",\"21\",\"21\",\"21\",\"22\",\"22\",\"22\",\"22\",\"22\",\"22\",\"22\",\"22\",\"23\",\"23\",\"23\",\"23\",\"23\",\"23\",\"23\",\"23\",\"24\",\"24\",\"24\",\"24\",\"24\",\"24\",\"24\",\"25\",\"25\",\"25\",\"25\",\"25\",\"25\",\"25\",\"26\",\"26\",\"26\",\"26\",\"26\",\"26\",\"26\",\"27\",\"27\",\"27\",\"27\",\"27\",\"27\",\"27\",\"28\",\"28\",\"28\",\"28\",\"28\",\"28\",\"28\",\"29\",\"29\",\"29\",\"29\",\"29\",\"29\",\"29\",\"29\",\"30\",\"30\",\"30\",\"30\",\"30\",\"30\",\"30\",\"30\",\"31\",\"31\",\"31\",\"31\",\"31\",\"31\",\"31\",\"32\",\"32\",\"32\",\"32\",\"32\",\"32\",\"32\",\"33\",\"33\",\"33\",\"33\",\"33\",\"33\",\"33\",\"34\",\"34\",\"34\",\"34\",\"34\",\"34\",\"34\",\"35\",\"35\",\"35\",\"35\",\"35\",\"35\",\"35\",\"36\",\"36\",\"36\",\"36\",\"36\",\"36\",\"36\",\"37\",\"37\",\"37\",\"37\",\"37\",\"37\",\"37\",\"38\",\"38\",\"38\",\"38\",\"38\",\"38\",\"38\",\"39\",\"39\",\"39\",\"39\",\"39\",\"39\",\"39\",\"40\",\"40\",\"40\",\"40\",\"40\",\"40\",\"40\",\"41\",\"41\",\"41\",\"41\",\"41\",\"41\",\"41\",\"42\",\"42\",\"42\",\"42\",\"42\",\"42\",\"42\",\"43\",\"43\",\"43\",\"43\",\"43\",\"43\",\"43\",\"44\",\"44\",\"44\",\"44\",\"44\",\"44\",\"44\",\"45\",\"45\",\"45\",\"45\",\"45\",\"45\",\"45\",\"46\",\"46\",\"46\",\"46\",\"46\",\"46\",\"46\",\"46\",\"47\",\"47\",\"47\",\"47\",\"47\",\"47\",\"47\",\"48\",\"48\",\"48\",\"48\",\"48\",\"48\",\"48\",\"49\",\"49\",\"49\",\"49\",\"49\",\"49\",\"49\",\"50\",\"50\",\"50\",\"50\",\"50\",\"50\",\"50\",\"51\",\"51\",\"51\",\"51\",\"51\",\"51\",\"51\",\"52\",\"52\",\"52\",\"52\",\"52\",\"52\",\"52\",\"52\",\"53\",\"53\",\"53\",\"53\",\"53\",\"53\",\"53\",\"54\",\"54\",\"54\",\"54\",\"54\",\"54\",\"54\",\"55\",\"55\",\"55\",\"55\",\"55\",\"55\",\"55\",\"56\",\"56\",\"56\",\"56\",\"56\",\"56\",\"56\",\"57\",\"57\",\"57\",\"57\",\"57\",\"57\",\"57\",\"58\",\"58\",\"58\",\"58\",\"58\",\"58\",\"58\",\"59\",\"59\",\"59\",\"59\",\"59\",\"59\",\"59\",\"60\",\"60\",\"60\",\"60\",\"60\",\"60\",\"60\",\"61\",\"61\",\"61\",\"61\",\"61\",\"61\",\"61\",\"62\",\"62\",\"62\",\"62\",\"62\",\"62\",\"62\",\"62\",\"63\",\"63\",\"63\",\"63\",\"63\",\"63\",\"63\",\"64\",\"64\",\"64\",\"64\",\"64\",\"64\",\"64\",\"65\",\"65\",\"65\",\"65\",\"65\",\"65\",\"65\",\"65\",\"66\",\"66\",\"66\",\"66\",\"66\",\"66\",\"66\",\"67\",\"67\",\"67\",\"67\",\"67\",\"67\",\"67\",\"67\",\"68\",\"68\",\"68\",\"68\",\"68\",\"68\",\"68\",\"68\",\"69\",\"69\",\"69\",\"69\",\"69\",\"69\",\"69\",\"70\",\"70\",\"70\",\"70\",\"70\",\"70\",\"70\",\"71\",\"71\",\"71\",\"71\",\"71\",\"71\",\"71\",\"72\",\"72\",\"72\",\"72\",\"72\",\"72\",\"72\",\"73\",\"73\",\"73\",\"73\",\"73\",\"73\",\"73\",\"74\",\"74\",\"74\",\"74\",\"74\",\"74\",\"75\",\"75\",\"75\",\"75\",\"75\",\"75\",\"76\",\"76\",\"76\",\"76\",\"76\",\"76\",\"77\",\"77\",\"77\",\"77\",\"77\",\"78\",\"78\",\"78\",\"78\",\"78\",\"79\",\"79\",\"79\",\"79\",\"79\",\"79\",\"80\",\"80\",\"80\",\"80\",\"81\",\"81\",\"81\",\"81\",\"81\",\"82\",\"82\",\"82\",\"82\",\"83\",\"83\",\"83\",\"83\",\"84\",\"84\",\"84\",\"84\",\"84\",\"85\",\"85\",\"86\",\"87\",\"88\",\"88\",\"90\",\"90\",\"90\",\"90\",\"90\",\" ?\",\" Federal-gov\",\" Local-gov\",\" Never-worked\",\" Private\",\" Self-emp-inc\",\" Self-emp-not-inc\",\" State-gov\",\" Without-pay\"],\"name\":\"\",\"parents\":[\" ?\",\" Federal-gov\",\" Local-gov\",\" Never-worked\",\" Private\",\" Self-emp-inc\",\" Self-emp-not-inc\",\" State-gov\",\" ?\",\" Federal-gov\",\" Local-gov\",\" Never-worked\",\" Private\",\" Self-emp-inc\",\" Self-emp-not-inc\",\" State-gov\",\" ?\",\" Federal-gov\",\" Local-gov\",\" Private\",\" Self-emp-inc\",\" Self-emp-not-inc\",\" State-gov\",\" Without-pay\",\" ?\",\" Federal-gov\",\" Local-gov\",\" Never-worked\",\" Private\",\" Self-emp-inc\",\" Self-emp-not-inc\",\" State-gov\",\" ?\",\" Federal-gov\",\" Local-gov\",\" Private\",\" Self-emp-inc\",\" Self-emp-not-inc\",\" State-gov\",\" Without-pay\",\" ?\",\" Federal-gov\",\" Local-gov\",\" Private\",\" Self-emp-inc\",\" Self-emp-not-inc\",\" State-gov\",\" Without-pay\",\" ?\",\" Federal-gov\",\" Local-gov\",\" Never-worked\",\" Private\",\" Self-emp-inc\",\" Self-emp-not-inc\",\" State-gov\",\" ?\",\" Federal-gov\",\" Local-gov\",\" Private\",\" Self-emp-inc\",\" Self-emp-not-inc\",\" State-gov\",\" ?\",\" Federal-gov\",\" Local-gov\",\" Private\",\" Self-emp-inc\",\" Self-emp-not-inc\",\" State-gov\",\" ?\",\" Federal-gov\",\" Local-gov\",\" Private\",\" Self-emp-inc\",\" Self-emp-not-inc\",\" State-gov\",\" ?\",\" Federal-gov\",\" Local-gov\",\" Private\",\" Self-emp-inc\",\" Self-emp-not-inc\",\" State-gov\",\" ?\",\" Federal-gov\",\" Local-gov\",\" Private\",\" Self-emp-inc\",\" Self-emp-not-inc\",\" State-gov\",\" ?\",\" Federal-gov\",\" Local-gov\",\" Private\",\" Self-emp-inc\",\" Self-emp-not-inc\",\" State-gov\",\" Without-pay\",\" ?\",\" Federal-gov\",\" Local-gov\",\" Never-worked\",\" Private\",\" Self-emp-inc\",\" Self-emp-not-inc\",\" State-gov\",\" ?\",\" Federal-gov\",\" Local-gov\",\" Private\",\" Self-emp-inc\",\" Self-emp-not-inc\",\" State-gov\",\" ?\",\" Federal-gov\",\" Local-gov\",\" Private\",\" Self-emp-inc\",\" Self-emp-not-inc\",\" State-gov\",\" ?\",\" Federal-gov\",\" Local-gov\",\" Private\",\" Self-emp-inc\",\" Self-emp-not-inc\",\" State-gov\",\" ?\",\" Federal-gov\",\" Local-gov\",\" Private\",\" Self-emp-inc\",\" Self-emp-not-inc\",\" State-gov\",\" ?\",\" Federal-gov\",\" Local-gov\",\" Private\",\" Self-emp-inc\",\" Self-emp-not-inc\",\" State-gov\",\" ?\",\" Federal-gov\",\" Local-gov\",\" Private\",\" Self-emp-inc\",\" Self-emp-not-inc\",\" State-gov\",\" ?\",\" Federal-gov\",\" Local-gov\",\" Private\",\" Self-emp-inc\",\" Self-emp-not-inc\",\" State-gov\",\" ?\",\" Federal-gov\",\" Local-gov\",\" Private\",\" Self-emp-inc\",\" Self-emp-not-inc\",\" State-gov\",\" ?\",\" Federal-gov\",\" Local-gov\",\" Private\",\" Self-emp-inc\",\" Self-emp-not-inc\",\" State-gov\",\" ?\",\" Federal-gov\",\" Local-gov\",\" Private\",\" Self-emp-inc\",\" Self-emp-not-inc\",\" State-gov\",\" ?\",\" Federal-gov\",\" Local-gov\",\" Private\",\" Self-emp-inc\",\" Self-emp-not-inc\",\" State-gov\",\" ?\",\" Federal-gov\",\" Local-gov\",\" Private\",\" Self-emp-inc\",\" Self-emp-not-inc\",\" State-gov\",\" ?\",\" Federal-gov\",\" Local-gov\",\" Private\",\" Self-emp-inc\",\" Self-emp-not-inc\",\" State-gov\",\" ?\",\" Federal-gov\",\" Local-gov\",\" Private\",\" Self-emp-inc\",\" Self-emp-not-inc\",\" State-gov\",\" ?\",\" Federal-gov\",\" Local-gov\",\" Private\",\" Self-emp-inc\",\" Self-emp-not-inc\",\" State-gov\",\" ?\",\" Federal-gov\",\" Local-gov\",\" Private\",\" Self-emp-inc\",\" Self-emp-not-inc\",\" State-gov\",\" Without-pay\",\" ?\",\" Federal-gov\",\" Local-gov\",\" Private\",\" Self-emp-inc\",\" Self-emp-not-inc\",\" State-gov\",\" ?\",\" Federal-gov\",\" Local-gov\",\" Private\",\" Self-emp-inc\",\" Self-emp-not-inc\",\" State-gov\",\" ?\",\" Federal-gov\",\" Local-gov\",\" Private\",\" Self-emp-inc\",\" Self-emp-not-inc\",\" State-gov\",\" ?\",\" Federal-gov\",\" Local-gov\",\" Private\",\" Self-emp-inc\",\" Self-emp-not-inc\",\" State-gov\",\" ?\",\" Federal-gov\",\" Local-gov\",\" Private\",\" Self-emp-inc\",\" Self-emp-not-inc\",\" State-gov\",\" ?\",\" Federal-gov\",\" Local-gov\",\" Private\",\" Self-emp-inc\",\" Self-emp-not-inc\",\" State-gov\",\" Without-pay\",\" ?\",\" Federal-gov\",\" Local-gov\",\" Private\",\" Self-emp-inc\",\" Self-emp-not-inc\",\" State-gov\",\" ?\",\" Federal-gov\",\" Local-gov\",\" Private\",\" Self-emp-inc\",\" Self-emp-not-inc\",\" State-gov\",\" ?\",\" Federal-gov\",\" Local-gov\",\" Private\",\" Self-emp-inc\",\" Self-emp-not-inc\",\" State-gov\",\" ?\",\" Federal-gov\",\" Local-gov\",\" Private\",\" Self-emp-inc\",\" Self-emp-not-inc\",\" State-gov\",\" ?\",\" Federal-gov\",\" Local-gov\",\" Private\",\" Self-emp-inc\",\" Self-emp-not-inc\",\" State-gov\",\" ?\",\" Federal-gov\",\" Local-gov\",\" Private\",\" Self-emp-inc\",\" Self-emp-not-inc\",\" State-gov\",\" ?\",\" Federal-gov\",\" Local-gov\",\" Private\",\" Self-emp-inc\",\" Self-emp-not-inc\",\" State-gov\",\" ?\",\" Federal-gov\",\" Local-gov\",\" Private\",\" Self-emp-inc\",\" Self-emp-not-inc\",\" State-gov\",\" ?\",\" Federal-gov\",\" Local-gov\",\" Private\",\" Self-emp-inc\",\" Self-emp-not-inc\",\" State-gov\",\" ?\",\" Federal-gov\",\" Local-gov\",\" Private\",\" Self-emp-inc\",\" Self-emp-not-inc\",\" State-gov\",\" Without-pay\",\" ?\",\" Federal-gov\",\" Local-gov\",\" Private\",\" Self-emp-inc\",\" Self-emp-not-inc\",\" State-gov\",\" ?\",\" Federal-gov\",\" Local-gov\",\" Private\",\" Self-emp-inc\",\" Self-emp-not-inc\",\" State-gov\",\" ?\",\" Federal-gov\",\" Local-gov\",\" Private\",\" Self-emp-inc\",\" Self-emp-not-inc\",\" State-gov\",\" Without-pay\",\" ?\",\" Federal-gov\",\" Local-gov\",\" Private\",\" Self-emp-inc\",\" Self-emp-not-inc\",\" State-gov\",\" ?\",\" Federal-gov\",\" Local-gov\",\" Private\",\" Self-emp-inc\",\" Self-emp-not-inc\",\" State-gov\",\" Without-pay\",\" ?\",\" Federal-gov\",\" Local-gov\",\" Private\",\" Self-emp-inc\",\" Self-emp-not-inc\",\" State-gov\",\" Without-pay\",\" ?\",\" Federal-gov\",\" Local-gov\",\" Private\",\" Self-emp-inc\",\" Self-emp-not-inc\",\" State-gov\",\" ?\",\" Federal-gov\",\" Local-gov\",\" Private\",\" Self-emp-inc\",\" Self-emp-not-inc\",\" State-gov\",\" ?\",\" Federal-gov\",\" Local-gov\",\" Private\",\" Self-emp-inc\",\" Self-emp-not-inc\",\" State-gov\",\" ?\",\" Federal-gov\",\" Local-gov\",\" Private\",\" Self-emp-inc\",\" Self-emp-not-inc\",\" Without-pay\",\" ?\",\" Federal-gov\",\" Local-gov\",\" Private\",\" Self-emp-inc\",\" Self-emp-not-inc\",\" State-gov\",\" ?\",\" Federal-gov\",\" Private\",\" Self-emp-inc\",\" Self-emp-not-inc\",\" State-gov\",\" ?\",\" Local-gov\",\" Private\",\" Self-emp-inc\",\" Self-emp-not-inc\",\" State-gov\",\" ?\",\" Federal-gov\",\" Local-gov\",\" Private\",\" Self-emp-inc\",\" Self-emp-not-inc\",\" ?\",\" Local-gov\",\" Private\",\" Self-emp-inc\",\" Self-emp-not-inc\",\" ?\",\" Local-gov\",\" Private\",\" Self-emp-inc\",\" Self-emp-not-inc\",\" ?\",\" Federal-gov\",\" Local-gov\",\" Private\",\" Self-emp-inc\",\" Self-emp-not-inc\",\" ?\",\" Local-gov\",\" Private\",\" Self-emp-not-inc\",\" ?\",\" Private\",\" Self-emp-inc\",\" Self-emp-not-inc\",\" State-gov\",\" ?\",\" Private\",\" Self-emp-inc\",\" Self-emp-not-inc\",\" ?\",\" Private\",\" Self-emp-inc\",\" Self-emp-not-inc\",\" ?\",\" Local-gov\",\" Private\",\" Self-emp-inc\",\" Self-emp-not-inc\",\" Private\",\" Self-emp-not-inc\",\" Private\",\" ?\",\" Private\",\" Self-emp-not-inc\",\" ?\",\" Federal-gov\",\" Local-gov\",\" Private\",\" Self-emp-not-inc\",\"\",\"\",\"\",\"\",\"\",\"\",\"\",\"\",\"\"],\"values\":[64,1,14,1,300,7,6,2,92,3,10,3,413,6,14,9,113,5,11,540,3,17,21,2,115,9,12,1,581,3,11,21,89,3,9,577,1,10,30,1,79,11,20,605,5,13,31,1,46,13,35,1,733,6,13,30,34,14,33,655,6,21,35,32,8,44,693,12,26,26,22,15,42,636,10,33,27,33,16,48,658,13,37,30,41,15,52,667,15,51,26,28,25,46,617,14,52,30,1,28,19,54,1,662,20,48,29,19,22,56,684,17,52,38,25,24,46,621,24,52,36,26,26,56,645,15,72,35,26,17,58,649,28,69,39,32,23,39,649,23,80,30,23,24,63,652,21,74,41,9,33,57,612,33,83,31,17,28,52,598,25,72,35,12,32,58,582,36,62,34,17,29,55,561,34,63,35,18,27,80,535,37,70,41,15,31,76,500,30,89,39,13,36,65,496,36,72,52,10,31,63,480,39,70,31,11,32,68,481,40,68,34,11,41,69,492,36,50,37,1,14,38,62,451,33,78,32,16,20,32,360,35,56,24,18,21,59,350,40,58,31,14,24,56,374,41,67,26,17,28,58,369,33,68,22,14,27,39,307,28,43,19,1,12,26,49,292,22,38,25,16,14,34,256,24,52,19,22,17,34,257,17,53,19,13,15,25,229,19,52,13,16,20,27,200,31,49,15,20,13,27,213,25,50,18,20,16,29,218,16,43,13,31,10,20,175,14,46,16,36,11,19,172,17,37,8,42,6,24,134,10,30,10,2,39,7,11,118,13,38,4,31,11,19,93,13,27,14,39,3,12,88,11,19,4,2,37,2,13,65,11,17,5,39,3,10,51,13,29,5,1,28,2,5,60,4,17,3,1,28,1,7,45,5,15,7,24,1,3,35,11,14,1,18,2,4,32,4,9,3,25,3,2,27,2,7,1,15,1,5,25,3,13,2,12,2,18,4,12,3,11,1,13,4,15,1,16,1,4,17,1,7,9,2,10,3,5,9,1,6,4,3,7,1,2,6,3,3,6,1,8,7,6,8,1,4,1,5,3,2,2,1,1,3,1,2,2,4,1,1,2,1,1,1,1,2,7,1,4,28,3,1836,960,2093,7,22696,1116,2541,1298,14],\"type\":\"treemap\"}],                        {\"template\":{\"data\":{\"histogram2dcontour\":[{\"type\":\"histogram2dcontour\",\"colorbar\":{\"outlinewidth\":0,\"ticks\":\"\"},\"colorscale\":[[0.0,\"#0d0887\"],[0.1111111111111111,\"#46039f\"],[0.2222222222222222,\"#7201a8\"],[0.3333333333333333,\"#9c179e\"],[0.4444444444444444,\"#bd3786\"],[0.5555555555555556,\"#d8576b\"],[0.6666666666666666,\"#ed7953\"],[0.7777777777777778,\"#fb9f3a\"],[0.8888888888888888,\"#fdca26\"],[1.0,\"#f0f921\"]]}],\"choropleth\":[{\"type\":\"choropleth\",\"colorbar\":{\"outlinewidth\":0,\"ticks\":\"\"}}],\"histogram2d\":[{\"type\":\"histogram2d\",\"colorbar\":{\"outlinewidth\":0,\"ticks\":\"\"},\"colorscale\":[[0.0,\"#0d0887\"],[0.1111111111111111,\"#46039f\"],[0.2222222222222222,\"#7201a8\"],[0.3333333333333333,\"#9c179e\"],[0.4444444444444444,\"#bd3786\"],[0.5555555555555556,\"#d8576b\"],[0.6666666666666666,\"#ed7953\"],[0.7777777777777778,\"#fb9f3a\"],[0.8888888888888888,\"#fdca26\"],[1.0,\"#f0f921\"]]}],\"heatmap\":[{\"type\":\"heatmap\",\"colorbar\":{\"outlinewidth\":0,\"ticks\":\"\"},\"colorscale\":[[0.0,\"#0d0887\"],[0.1111111111111111,\"#46039f\"],[0.2222222222222222,\"#7201a8\"],[0.3333333333333333,\"#9c179e\"],[0.4444444444444444,\"#bd3786\"],[0.5555555555555556,\"#d8576b\"],[0.6666666666666666,\"#ed7953\"],[0.7777777777777778,\"#fb9f3a\"],[0.8888888888888888,\"#fdca26\"],[1.0,\"#f0f921\"]]}],\"heatmapgl\":[{\"type\":\"heatmapgl\",\"colorbar\":{\"outlinewidth\":0,\"ticks\":\"\"},\"colorscale\":[[0.0,\"#0d0887\"],[0.1111111111111111,\"#46039f\"],[0.2222222222222222,\"#7201a8\"],[0.3333333333333333,\"#9c179e\"],[0.4444444444444444,\"#bd3786\"],[0.5555555555555556,\"#d8576b\"],[0.6666666666666666,\"#ed7953\"],[0.7777777777777778,\"#fb9f3a\"],[0.8888888888888888,\"#fdca26\"],[1.0,\"#f0f921\"]]}],\"contourcarpet\":[{\"type\":\"contourcarpet\",\"colorbar\":{\"outlinewidth\":0,\"ticks\":\"\"}}],\"contour\":[{\"type\":\"contour\",\"colorbar\":{\"outlinewidth\":0,\"ticks\":\"\"},\"colorscale\":[[0.0,\"#0d0887\"],[0.1111111111111111,\"#46039f\"],[0.2222222222222222,\"#7201a8\"],[0.3333333333333333,\"#9c179e\"],[0.4444444444444444,\"#bd3786\"],[0.5555555555555556,\"#d8576b\"],[0.6666666666666666,\"#ed7953\"],[0.7777777777777778,\"#fb9f3a\"],[0.8888888888888888,\"#fdca26\"],[1.0,\"#f0f921\"]]}],\"surface\":[{\"type\":\"surface\",\"colorbar\":{\"outlinewidth\":0,\"ticks\":\"\"},\"colorscale\":[[0.0,\"#0d0887\"],[0.1111111111111111,\"#46039f\"],[0.2222222222222222,\"#7201a8\"],[0.3333333333333333,\"#9c179e\"],[0.4444444444444444,\"#bd3786\"],[0.5555555555555556,\"#d8576b\"],[0.6666666666666666,\"#ed7953\"],[0.7777777777777778,\"#fb9f3a\"],[0.8888888888888888,\"#fdca26\"],[1.0,\"#f0f921\"]]}],\"mesh3d\":[{\"type\":\"mesh3d\",\"colorbar\":{\"outlinewidth\":0,\"ticks\":\"\"}}],\"scatter\":[{\"fillpattern\":{\"fillmode\":\"overlay\",\"size\":10,\"solidity\":0.2},\"type\":\"scatter\"}],\"parcoords\":[{\"type\":\"parcoords\",\"line\":{\"colorbar\":{\"outlinewidth\":0,\"ticks\":\"\"}}}],\"scatterpolargl\":[{\"type\":\"scatterpolargl\",\"marker\":{\"colorbar\":{\"outlinewidth\":0,\"ticks\":\"\"}}}],\"bar\":[{\"error_x\":{\"color\":\"#2a3f5f\"},\"error_y\":{\"color\":\"#2a3f5f\"},\"marker\":{\"line\":{\"color\":\"#E5ECF6\",\"width\":0.5},\"pattern\":{\"fillmode\":\"overlay\",\"size\":10,\"solidity\":0.2}},\"type\":\"bar\"}],\"scattergeo\":[{\"type\":\"scattergeo\",\"marker\":{\"colorbar\":{\"outlinewidth\":0,\"ticks\":\"\"}}}],\"scatterpolar\":[{\"type\":\"scatterpolar\",\"marker\":{\"colorbar\":{\"outlinewidth\":0,\"ticks\":\"\"}}}],\"histogram\":[{\"marker\":{\"pattern\":{\"fillmode\":\"overlay\",\"size\":10,\"solidity\":0.2}},\"type\":\"histogram\"}],\"scattergl\":[{\"type\":\"scattergl\",\"marker\":{\"colorbar\":{\"outlinewidth\":0,\"ticks\":\"\"}}}],\"scatter3d\":[{\"type\":\"scatter3d\",\"line\":{\"colorbar\":{\"outlinewidth\":0,\"ticks\":\"\"}},\"marker\":{\"colorbar\":{\"outlinewidth\":0,\"ticks\":\"\"}}}],\"scattermapbox\":[{\"type\":\"scattermapbox\",\"marker\":{\"colorbar\":{\"outlinewidth\":0,\"ticks\":\"\"}}}],\"scatterternary\":[{\"type\":\"scatterternary\",\"marker\":{\"colorbar\":{\"outlinewidth\":0,\"ticks\":\"\"}}}],\"scattercarpet\":[{\"type\":\"scattercarpet\",\"marker\":{\"colorbar\":{\"outlinewidth\":0,\"ticks\":\"\"}}}],\"carpet\":[{\"aaxis\":{\"endlinecolor\":\"#2a3f5f\",\"gridcolor\":\"white\",\"linecolor\":\"white\",\"minorgridcolor\":\"white\",\"startlinecolor\":\"#2a3f5f\"},\"baxis\":{\"endlinecolor\":\"#2a3f5f\",\"gridcolor\":\"white\",\"linecolor\":\"white\",\"minorgridcolor\":\"white\",\"startlinecolor\":\"#2a3f5f\"},\"type\":\"carpet\"}],\"table\":[{\"cells\":{\"fill\":{\"color\":\"#EBF0F8\"},\"line\":{\"color\":\"white\"}},\"header\":{\"fill\":{\"color\":\"#C8D4E3\"},\"line\":{\"color\":\"white\"}},\"type\":\"table\"}],\"barpolar\":[{\"marker\":{\"line\":{\"color\":\"#E5ECF6\",\"width\":0.5},\"pattern\":{\"fillmode\":\"overlay\",\"size\":10,\"solidity\":0.2}},\"type\":\"barpolar\"}],\"pie\":[{\"automargin\":true,\"type\":\"pie\"}]},\"layout\":{\"autotypenumbers\":\"strict\",\"colorway\":[\"#636efa\",\"#EF553B\",\"#00cc96\",\"#ab63fa\",\"#FFA15A\",\"#19d3f3\",\"#FF6692\",\"#B6E880\",\"#FF97FF\",\"#FECB52\"],\"font\":{\"color\":\"#2a3f5f\"},\"hovermode\":\"closest\",\"hoverlabel\":{\"align\":\"left\"},\"paper_bgcolor\":\"white\",\"plot_bgcolor\":\"#E5ECF6\",\"polar\":{\"bgcolor\":\"#E5ECF6\",\"angularaxis\":{\"gridcolor\":\"white\",\"linecolor\":\"white\",\"ticks\":\"\"},\"radialaxis\":{\"gridcolor\":\"white\",\"linecolor\":\"white\",\"ticks\":\"\"}},\"ternary\":{\"bgcolor\":\"#E5ECF6\",\"aaxis\":{\"gridcolor\":\"white\",\"linecolor\":\"white\",\"ticks\":\"\"},\"baxis\":{\"gridcolor\":\"white\",\"linecolor\":\"white\",\"ticks\":\"\"},\"caxis\":{\"gridcolor\":\"white\",\"linecolor\":\"white\",\"ticks\":\"\"}},\"coloraxis\":{\"colorbar\":{\"outlinewidth\":0,\"ticks\":\"\"}},\"colorscale\":{\"sequential\":[[0.0,\"#0d0887\"],[0.1111111111111111,\"#46039f\"],[0.2222222222222222,\"#7201a8\"],[0.3333333333333333,\"#9c179e\"],[0.4444444444444444,\"#bd3786\"],[0.5555555555555556,\"#d8576b\"],[0.6666666666666666,\"#ed7953\"],[0.7777777777777778,\"#fb9f3a\"],[0.8888888888888888,\"#fdca26\"],[1.0,\"#f0f921\"]],\"sequentialminus\":[[0.0,\"#0d0887\"],[0.1111111111111111,\"#46039f\"],[0.2222222222222222,\"#7201a8\"],[0.3333333333333333,\"#9c179e\"],[0.4444444444444444,\"#bd3786\"],[0.5555555555555556,\"#d8576b\"],[0.6666666666666666,\"#ed7953\"],[0.7777777777777778,\"#fb9f3a\"],[0.8888888888888888,\"#fdca26\"],[1.0,\"#f0f921\"]],\"diverging\":[[0,\"#8e0152\"],[0.1,\"#c51b7d\"],[0.2,\"#de77ae\"],[0.3,\"#f1b6da\"],[0.4,\"#fde0ef\"],[0.5,\"#f7f7f7\"],[0.6,\"#e6f5d0\"],[0.7,\"#b8e186\"],[0.8,\"#7fbc41\"],[0.9,\"#4d9221\"],[1,\"#276419\"]]},\"xaxis\":{\"gridcolor\":\"white\",\"linecolor\":\"white\",\"ticks\":\"\",\"title\":{\"standoff\":15},\"zerolinecolor\":\"white\",\"automargin\":true,\"zerolinewidth\":2},\"yaxis\":{\"gridcolor\":\"white\",\"linecolor\":\"white\",\"ticks\":\"\",\"title\":{\"standoff\":15},\"zerolinecolor\":\"white\",\"automargin\":true,\"zerolinewidth\":2},\"scene\":{\"xaxis\":{\"backgroundcolor\":\"#E5ECF6\",\"gridcolor\":\"white\",\"linecolor\":\"white\",\"showbackground\":true,\"ticks\":\"\",\"zerolinecolor\":\"white\",\"gridwidth\":2},\"yaxis\":{\"backgroundcolor\":\"#E5ECF6\",\"gridcolor\":\"white\",\"linecolor\":\"white\",\"showbackground\":true,\"ticks\":\"\",\"zerolinecolor\":\"white\",\"gridwidth\":2},\"zaxis\":{\"backgroundcolor\":\"#E5ECF6\",\"gridcolor\":\"white\",\"linecolor\":\"white\",\"showbackground\":true,\"ticks\":\"\",\"zerolinecolor\":\"white\",\"gridwidth\":2}},\"shapedefaults\":{\"line\":{\"color\":\"#2a3f5f\"}},\"annotationdefaults\":{\"arrowcolor\":\"#2a3f5f\",\"arrowhead\":0,\"arrowwidth\":1},\"geo\":{\"bgcolor\":\"white\",\"landcolor\":\"#E5ECF6\",\"subunitcolor\":\"white\",\"showland\":true,\"showlakes\":true,\"lakecolor\":\"white\"},\"title\":{\"x\":0.05},\"mapbox\":{\"style\":\"light\"}}},\"legend\":{\"tracegroupgap\":0},\"margin\":{\"t\":60}},                        {\"responsive\": true}                    ).then(function(){\n",
       "                            \n",
       "var gd = document.getElementById('7867eb7a-5602-4d1a-86fc-9810e09ad294');\n",
       "var x = new MutationObserver(function (mutations, observer) {{\n",
       "        var display = window.getComputedStyle(gd).display;\n",
       "        if (!display || display === 'none') {{\n",
       "            console.log([gd, 'removed!']);\n",
       "            Plotly.purge(gd);\n",
       "            observer.disconnect();\n",
       "        }}\n",
       "}});\n",
       "\n",
       "// Listen for the removal of the full notebook cells\n",
       "var notebookContainer = gd.closest('#notebook-container');\n",
       "if (notebookContainer) {{\n",
       "    x.observe(notebookContainer, {childList: true});\n",
       "}}\n",
       "\n",
       "// Listen for the clearing of the current output cell\n",
       "var outputEl = gd.closest('.output');\n",
       "if (outputEl) {{\n",
       "    x.observe(outputEl, {childList: true});\n",
       "}}\n",
       "\n",
       "                        })                };                });            </script>        </div>"
      ]
     },
     "metadata": {},
     "output_type": "display_data"
    }
   ],
   "source": [
    "plot = px.treemap(base_census, path=['workclass', 'age'])\n",
    "plot.show()"
   ]
  },
  {
   "cell_type": "markdown",
   "id": "496201fd-7a2d-4305-8426-7fa7ea526ce6",
   "metadata": {},
   "source": [
    "### Divisão entre previsores e classe"
   ]
  },
  {
   "cell_type": "code",
   "execution_count": null,
   "id": "97dc6a00-0d70-4bde-92e5-5d42839b199a",
   "metadata": {},
   "outputs": [],
   "source": []
  },
  {
   "cell_type": "markdown",
   "id": "e0ad8f41-1a5f-4766-8498-3a499d6239db",
   "metadata": {},
   "source": [
    "### Tratamento de atributos categóricos"
   ]
  },
  {
   "cell_type": "code",
   "execution_count": null,
   "id": "79fc9e25-27eb-4d46-b75c-58b0b454450e",
   "metadata": {},
   "outputs": [],
   "source": []
  }
 ],
 "metadata": {
  "kernelspec": {
   "display_name": "Python 3 (ipykernel)",
   "language": "python",
   "name": "python3"
  },
  "language_info": {
   "codemirror_mode": {
    "name": "ipython",
    "version": 3
   },
   "file_extension": ".py",
   "mimetype": "text/x-python",
   "name": "python",
   "nbconvert_exporter": "python",
   "pygments_lexer": "ipython3",
   "version": "3.11.5"
  }
 },
 "nbformat": 4,
 "nbformat_minor": 5
}
